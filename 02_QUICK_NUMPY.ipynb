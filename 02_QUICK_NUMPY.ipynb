{
 "cells": [
  {
   "cell_type": "markdown",
   "id": "bb23eb2e",
   "metadata": {},
   "source": [
    "### Numpy\n",
    "\n",
    "- C언어로 구현된 라이브러리로, 고성능 수치계산을 위한 기능 제공\n",
    "- 행렬 기반 계산에 유용한 라이브러리 입니다.\n",
    "\n",
    "> PyTorch의 문법은 numpy와 유사하고, numpy도 데이터 과학을 위해 꼭 정리해야 하는 라이브러리"
   ]
  },
  {
   "cell_type": "markdown",
   "id": "445fc5cf",
   "metadata": {},
   "source": [
    "### 파이썬 리스트와 numpy\n",
    "- 파이썬 리스트는 행렬 기반 계산에는 활용하기 어려움\n",
    "- numpy 행렬 연산은 C언어로 구현된 내부 코드로 실행되므로, 파이썬에 비해 속도가 빠름"
   ]
  },
  {
   "cell_type": "code",
   "execution_count": 1,
   "id": "d93c433e",
   "metadata": {},
   "outputs": [
    {
     "data": {
      "text/plain": [
       "[1, 2, 3, 4, 5, 6]"
      ]
     },
     "execution_count": 1,
     "metadata": {},
     "output_type": "execute_result"
    }
   ],
   "source": [
    "data1 =[1,2,3]\n",
    "data2 = [4,5,6]\n",
    "\n",
    "data1 + data2"
   ]
  },
  {
   "cell_type": "code",
   "execution_count": 2,
   "id": "da885ec7",
   "metadata": {},
   "outputs": [],
   "source": [
    "import numpy as np"
   ]
  },
  {
   "cell_type": "markdown",
   "id": "c40d14c3",
   "metadata": {},
   "source": [
    "### ndarray\n",
    "\n",
    "- numpy의 핵심은 ndarray 클래스\n",
    "- ndarray는 다차원 행렬 자료 구조 지원\n",
    "- ndarray와 파이썬 리스트 차이점\n",
    "    - 파이썬 리스트\n",
    "        - 리스트 내에 각 원소의 타입이 다를 수 있음\n",
    "        - 내부 연결 리스트로 구현되어, 각 원소의 저장 위치가 다를 수 있음\n",
    "    - numpy ndarray\n",
    "        - 각 원소의 타입이 동일함\n",
    "        - 각 원소가 이어진 메모리 공간에 배치됨\n",
    "        - 메모리 및 계산 속도 최적화"
   ]
  },
  {
   "cell_type": "markdown",
   "id": "f59d6606",
   "metadata": {},
   "source": [
    "### ndarray 생성"
   ]
  },
  {
   "cell_type": "code",
   "execution_count": 3,
   "id": "770862ef",
   "metadata": {},
   "outputs": [
    {
     "name": "stdout",
     "output_type": "stream",
     "text": [
      "[1 2 3] <class 'numpy.ndarray'>\n"
     ]
    }
   ],
   "source": [
    "data1 = np.array([1,2,3])\n",
    "print(data1, type(data1))"
   ]
  },
  {
   "cell_type": "code",
   "execution_count": 4,
   "id": "c07a61c6",
   "metadata": {},
   "outputs": [
    {
     "data": {
      "text/plain": [
       "(3,)"
      ]
     },
     "execution_count": 4,
     "metadata": {},
     "output_type": "execute_result"
    }
   ],
   "source": [
    "data1.shape # 형태 확인"
   ]
  },
  {
   "cell_type": "code",
   "execution_count": 5,
   "id": "9cb9ef6b",
   "metadata": {},
   "outputs": [
    {
     "data": {
      "text/plain": [
       "1"
      ]
     },
     "execution_count": 5,
     "metadata": {},
     "output_type": "execute_result"
    }
   ],
   "source": [
    "data1.ndim # 배열의 차원을 나타냄"
   ]
  },
  {
   "cell_type": "code",
   "execution_count": 6,
   "id": "19d0e586",
   "metadata": {},
   "outputs": [
    {
     "name": "stdout",
     "output_type": "stream",
     "text": [
      "(2, 3) 2\n"
     ]
    }
   ],
   "source": [
    "data2 = np.array([[1,2,3],[4,5,6]])\n",
    "print(data2.shape, data2.ndim)"
   ]
  },
  {
   "cell_type": "code",
   "execution_count": 7,
   "id": "d36218b0",
   "metadata": {},
   "outputs": [
    {
     "name": "stdout",
     "output_type": "stream",
     "text": [
      "int64 int64\n"
     ]
    }
   ],
   "source": [
    "print(data1.dtype, data2.dtype)"
   ]
  },
  {
   "cell_type": "code",
   "execution_count": null,
   "id": "c3c5e0be",
   "metadata": {},
   "outputs": [
    {
     "name": "stdout",
     "output_type": "stream",
     "text": [
      "3 6\n"
     ]
    }
   ],
   "source": [
    "print(data1.size, data2.size) # 데이터 사이즈(원소 갯수 제공)"
   ]
  },
  {
   "cell_type": "code",
   "execution_count": 11,
   "id": "3e3537e6",
   "metadata": {},
   "outputs": [
    {
     "name": "stdout",
     "output_type": "stream",
     "text": [
      "(2, 3) 2 float64 6\n"
     ]
    }
   ],
   "source": [
    "data3 = np.array([[1.,2.,3.],[4.,5.,6.]])\n",
    "print(data3.shape, data3.ndim, data3.dtype, data3.size)"
   ]
  },
  {
   "cell_type": "markdown",
   "id": "362e8b40",
   "metadata": {},
   "source": [
    "### reshape() : 배열 구조 변경"
   ]
  },
  {
   "cell_type": "code",
   "execution_count": 12,
   "id": "bba121a0",
   "metadata": {},
   "outputs": [
    {
     "name": "stdout",
     "output_type": "stream",
     "text": [
      "[1 2 3 4 5 6]\n",
      "[[1 2]\n",
      " [3 4]\n",
      " [5 6]]\n",
      "[[1 2]\n",
      " [3 4]\n",
      " [5 6]]\n"
     ]
    }
   ],
   "source": [
    "data3 = np.array([1,2,3,4,5,6])\n",
    "print(data3)\n",
    "data3 = data3.reshape(3,2)\n",
    "print(data3)\n",
    "data3 = data3.reshape(3,-1)\n",
    "print(data3)"
   ]
  },
  {
   "cell_type": "markdown",
   "id": "76ccf4f6",
   "metadata": {},
   "source": [
    "### numpy 데이터 타입\n",
    "- 크게는 정수형(int), 실수형(float), 복소수형(complex), 논리형(bool)으로 분류할 수 있음\n",
    "    - 숫자형\n",
    "        - 정수형\n",
    "        - 부호 없는 정수형\n",
    "        - 부동소수형\n",
    "        - 복소수형\n",
    "    - 문자형\n",
    "    - 부울형"
   ]
  },
  {
   "cell_type": "markdown",
   "id": "b55d5490",
   "metadata": {},
   "source": [
    "- 데이터 타입 지정 방법1 : dtype = np.Type 으로 지정하는 방법"
   ]
  },
  {
   "cell_type": "code",
   "execution_count": 14,
   "id": "254e335d",
   "metadata": {},
   "outputs": [
    {
     "name": "stdout",
     "output_type": "stream",
     "text": [
      "(2, 3) 2 6\n"
     ]
    }
   ],
   "source": [
    "data4 = np.array([[1,2,3],[4,5,6]], dtype=np.float64)\n",
    "print(data4.shape, data4.ndim, data4.size)"
   ]
  },
  {
   "cell_type": "markdown",
   "id": "f47d5a6a",
   "metadata": {},
   "source": [
    "- 데이터 타입 지정 방법2 : np.Type([xx,xx]) 으로 지정하는 방법"
   ]
  },
  {
   "cell_type": "code",
   "execution_count": 16,
   "id": "65dcc11a",
   "metadata": {},
   "outputs": [
    {
     "name": "stdout",
     "output_type": "stream",
     "text": [
      "[[1. 2. 3.]\n",
      " [4. 5. 6.]] float64\n"
     ]
    }
   ],
   "source": [
    "data4 = np.float64([[1,2,3],[4,5,6]])\n",
    "print(data4, data4.dtype)"
   ]
  },
  {
   "cell_type": "markdown",
   "id": "cbd16aa4",
   "metadata": {},
   "source": [
    "- 데이터 타입 변환 (astype)"
   ]
  },
  {
   "cell_type": "code",
   "execution_count": 19,
   "id": "5799dcde",
   "metadata": {},
   "outputs": [
    {
     "name": "stdout",
     "output_type": "stream",
     "text": [
      "[[1. 2. 3.]\n",
      " [4. 5. 6.]] float64\n",
      "[[1 2 3]\n",
      " [4 5 6]] int64\n"
     ]
    }
   ],
   "source": [
    "data4 = np.float64([[1,2,3],[4,5,6]])\n",
    "print(data4, data4.dtype)\n",
    "data4 = data4.astype(dtype=np.int64)\n",
    "print(data4, data4.dtype)\n"
   ]
  },
  {
   "cell_type": "code",
   "execution_count": 21,
   "id": "21b48e8a",
   "metadata": {},
   "outputs": [
    {
     "name": "stdout",
     "output_type": "stream",
     "text": [
      "[[1. 2. 3.]\n",
      " [4. 5. 6.]]\n",
      "[[1. 4.]\n",
      " [2. 5.]\n",
      " [3. 6.]]\n"
     ]
    }
   ],
   "source": [
    "data4 = np.float64([[1,2,3],[4,5,6]])\n",
    "print(data4)\n",
    "data4 = data4.T\n",
    "print(data4)"
   ]
  },
  {
   "cell_type": "markdown",
   "id": "c8d4c900",
   "metadata": {},
   "source": [
    "numpy.transpose()\n",
    "- 원하는 대로 축을 한번에 여러개를 변경"
   ]
  },
  {
   "cell_type": "code",
   "execution_count": 25,
   "id": "08910bcd",
   "metadata": {},
   "outputs": [
    {
     "name": "stdout",
     "output_type": "stream",
     "text": [
      "[[[0 1 2]\n",
      "  [3 4 5]]] (1, 2, 3)\n",
      "[[[0]\n",
      "  [3]]\n",
      "\n",
      " [[1]\n",
      "  [4]]\n",
      "\n",
      " [[2]\n",
      "  [5]]] (3, 2, 1)\n",
      "[[[0]\n",
      "  [1]\n",
      "  [2]]\n",
      "\n",
      " [[3]\n",
      "  [4]\n",
      "  [5]]] (2, 3, 1)\n"
     ]
    }
   ],
   "source": [
    "data = np.arange(6).reshape(1,2,3)\n",
    "print(data, data.shape)\n",
    "print(np.transpose(data), np.transpose(data).shape)\n",
    "print(np.transpose(data,(1,2,0)), np.transpose(data,(1,2,0)).shape)"
   ]
  },
  {
   "cell_type": "code",
   "execution_count": 26,
   "id": "25da9e60",
   "metadata": {},
   "outputs": [
    {
     "data": {
      "text/plain": [
       "array([0, 1, 2, 3, 4, 5])"
      ]
     },
     "execution_count": 26,
     "metadata": {},
     "output_type": "execute_result"
    }
   ],
   "source": [
    "np.arange(6)"
   ]
  },
  {
   "cell_type": "code",
   "execution_count": 28,
   "id": "3757258b",
   "metadata": {},
   "outputs": [
    {
     "data": {
      "text/plain": [
       "array([1., 3., 5.])"
      ]
     },
     "execution_count": 28,
     "metadata": {},
     "output_type": "execute_result"
    }
   ],
   "source": [
    "np.linspace(1,5,3)"
   ]
  },
  {
   "cell_type": "markdown",
   "id": "8990bbf1",
   "metadata": {},
   "source": [
    "### zeros() , ones(), full() : 특정 값으로 배열 생성\n",
    "- np.zeros(shape) : 0 값으로 shape 모양의 배열 생성\n",
    "- np.ones(shape) : 1 값으로 shape 모양의 배열 생성\n",
    "- np.full(shape, fill_value) : 지정한 값(fill_value)으로 shape 모양의 배열 생성"
   ]
  },
  {
   "cell_type": "code",
   "execution_count": 29,
   "id": "a9a76b22",
   "metadata": {},
   "outputs": [
    {
     "data": {
      "text/plain": [
       "array([[0., 0., 0.],\n",
       "       [0., 0., 0.]])"
      ]
     },
     "execution_count": 29,
     "metadata": {},
     "output_type": "execute_result"
    }
   ],
   "source": [
    "np.zeros(shape=(2,3))"
   ]
  },
  {
   "cell_type": "code",
   "execution_count": 30,
   "id": "ae297c45",
   "metadata": {},
   "outputs": [
    {
     "data": {
      "text/plain": [
       "array([[1., 1.],\n",
       "       [1., 1.],\n",
       "       [1., 1.]])"
      ]
     },
     "execution_count": 30,
     "metadata": {},
     "output_type": "execute_result"
    }
   ],
   "source": [
    "np.ones(shape=(3,2))"
   ]
  },
  {
   "cell_type": "code",
   "execution_count": 31,
   "id": "bd17a7d9",
   "metadata": {},
   "outputs": [
    {
     "data": {
      "text/plain": [
       "array([[5, 5],\n",
       "       [5, 5],\n",
       "       [5, 5],\n",
       "       [5, 5]])"
      ]
     },
     "execution_count": 31,
     "metadata": {},
     "output_type": "execute_result"
    }
   ],
   "source": [
    "np.full(shape=(4,2), fill_value=5)"
   ]
  },
  {
   "cell_type": "markdown",
   "id": "715981dd",
   "metadata": {},
   "source": [
    "### random.rand()와 random.randn()\n",
    "\n",
    "- np.random.rand(shape) : 0부터 1 사이에 균일한 확률 분포로 실수 난수로 shape 모양의 배열 생성\n",
    "- np.random.randn(shape) : 기댓값이 0이고, 표준편차가 1인 가우시안 표준 정규 분포를 따르는 실수 난수로 shape 모양의 배열 생성"
   ]
  },
  {
   "cell_type": "code",
   "execution_count": 33,
   "id": "9023090d",
   "metadata": {},
   "outputs": [
    {
     "name": "stdout",
     "output_type": "stream",
     "text": [
      "[[0.64875919 0.15245328]\n",
      " [0.12533127 0.41375729]\n",
      " [0.96571117 0.55836396]]\n",
      "[[ 0.70116256 -2.41999782]\n",
      " [ 2.19781496  0.15900017]\n",
      " [ 0.22438069 -2.47571321]]\n"
     ]
    }
   ],
   "source": [
    "print(np.random.rand(3,2))\n",
    "print(np.random.randn(3,2))"
   ]
  },
  {
   "cell_type": "markdown",
   "id": "a9d82960",
   "metadata": {},
   "source": [
    "ndarray 연산\n",
    "\n",
    "- 본래 행렬 곱셈은 앞 행렬의 행 갯수와 뒷 행렬의 열 갯수가 같아야 행렬간 곱셈이 가능하지만\n",
    "- ndarray 연산은 shape가 동일해야 하고 행과 열이 같은 값끼리 연산이 됨"
   ]
  },
  {
   "cell_type": "code",
   "execution_count": 34,
   "id": "4966ea50",
   "metadata": {},
   "outputs": [
    {
     "name": "stdout",
     "output_type": "stream",
     "text": [
      "[[ 2  4  6]\n",
      " [ 8 10 12]]\n",
      "[[0 0 0]\n",
      " [0 0 0]]\n",
      "[[ 1  4  9]\n",
      " [16 25 36]]\n",
      "[[1. 1. 1.]\n",
      " [1. 1. 1.]]\n",
      "[[0 0 0]\n",
      " [0 0 0]]\n",
      "[[1 1 1]\n",
      " [1 1 1]]\n"
     ]
    }
   ],
   "source": [
    "data1 = np.array([[1,2,3],[4,5,6]])\n",
    "data2 = np.array([[1,2,3],[4,5,6]])\n",
    "\n",
    "print(data1 + data2)\n",
    "print(data1 - data2)\n",
    "print(data1 * data2)\n",
    "print(data1 / data2)\n",
    "print(data1 % data2)\n",
    "print(data1 // data2)\n"
   ]
  },
  {
   "cell_type": "code",
   "execution_count": 42,
   "id": "6e76030e",
   "metadata": {},
   "outputs": [
    {
     "name": "stdout",
     "output_type": "stream",
     "text": [
      "data1 :  int64 (3, 2)\n",
      "[[2 3]\n",
      " [4 5]\n",
      " [6 7]]\n",
      "data2 :  int64 (3, 1)\n",
      "[[2 3]\n",
      " [5 6]\n",
      " [8 9]]\n",
      "data3 :  int64 (1, 3)\n",
      "[[2 3 4]\n",
      " [3 4 5]\n",
      " [4 5 6]]\n"
     ]
    }
   ],
   "source": [
    "data1 = np.array([[1,2],[3,4],[5,6]])\n",
    "print(\"data1 : \",data1.dtype, data1.shape) # data1 의 데이터 타입은 int64이고, 3행 2열의 2차원 행렬이다. metrix\n",
    "print(data1 + 1) # numpy의 boardcasting\n",
    "data2 = np.array([[1],[2],[3]])\n",
    "print(\"data2 : \",data2.dtype, data2.shape) # data2 의 데이터 타입은 int64이고, 3행 1열의 2차원 행렬이다. metrix\n",
    "print(data1 + data2) # 3행 2열의 행렬이 생겨난다 \n",
    "data3 = np.array([[1,2,3]]) \n",
    "print(\"data3 : \",data3.dtype, data3.shape) # data3 의 데이터 타입은 int64이고, 1행 3열의 2차원 행렬이다. metrix\n",
    "print(data2 + data3)\n",
    "\n"
   ]
  },
  {
   "cell_type": "markdown",
   "id": "2b8232e7",
   "metadata": {},
   "source": [
    "### 행렬 곱셈 @\n",
    "\n",
    "- 앞 행렬의 행의 갯수와 뒷 행렬의 열의 갯수가 같아야 행렬간 곱셈이 가능"
   ]
  },
  {
   "cell_type": "code",
   "execution_count": 43,
   "id": "3439b2e9",
   "metadata": {},
   "outputs": [
    {
     "data": {
      "text/plain": [
       "array([[ 0.40020305, -0.46906052,  0.93884427],\n",
       "       [-1.39361921,  1.68010181, -0.57975394],\n",
       "       [-0.43200897,  0.54456391,  1.18794025]])"
      ]
     },
     "execution_count": 43,
     "metadata": {},
     "output_type": "execute_result"
    }
   ],
   "source": [
    "data1 = np.random.randn(3,2)\n",
    "data2 = np.random.randn(2,3)\n",
    "\n",
    "data1 @ data2"
   ]
  },
  {
   "cell_type": "code",
   "execution_count": 47,
   "id": "3a5c2a50",
   "metadata": {},
   "outputs": [
    {
     "name": "stdout",
     "output_type": "stream",
     "text": [
      "[[1 2 3]\n",
      " [4 5 6]]\n",
      "5\n",
      "[2 5]\n",
      "[[1 2 3]\n",
      " [4 5 6]]\n",
      "[[1 2]]\n"
     ]
    }
   ],
   "source": [
    "data3 = np.array([[1,2,3],[4,5,6]])\n",
    "print(data3)\n",
    "print(data3[1,1])\n",
    "print(data3[:,1]) # 슬라이싱은 : 전체를 의미 -> 모든 행의 0 1 2 중에 1열을 가져옵니다.\n",
    "print(data3[:,:])\n",
    "print(data3[:1,:2]) # 0번째 행의 0 1열의 값을 가져옵니다."
   ]
  },
  {
   "cell_type": "markdown",
   "id": "5b7331d1",
   "metadata": {},
   "source": [
    "**boolean indexing**\n",
    "\n",
    "- 조건 필터링과 검색을 동시에 할 수 있어서, 유용하게 쓰이는 인덱싱 기법"
   ]
  },
  {
   "cell_type": "code",
   "execution_count": 50,
   "id": "f0b87138",
   "metadata": {},
   "outputs": [
    {
     "name": "stdout",
     "output_type": "stream",
     "text": [
      "[[False False False]\n",
      " [ True  True  True]]\n",
      "[4 5 6]\n"
     ]
    }
   ],
   "source": [
    "data1 = np.array([[1,2,3],[4,5,6]])\n",
    "data2 = data1 > 3\n",
    "print(data2)\n",
    "\n",
    "print(data1[data2])"
   ]
  },
  {
   "cell_type": "markdown",
   "id": "a7eb20df",
   "metadata": {},
   "source": [
    "**fancy indexing**\n",
    "\n",
    "- 다른 배열로 배열을 인덱싱할 수 있는 기능\n",
    "- 이를 통해, 복잡한 배열 값의 하위 집합을 빠르게 접근할 수 있음"
   ]
  },
  {
   "cell_type": "code",
   "execution_count": 51,
   "id": "59f32a40",
   "metadata": {},
   "outputs": [
    {
     "name": "stdout",
     "output_type": "stream",
     "text": [
      "[[-1.61471692 -0.14848574]\n",
      " [-0.83536895  0.50354243]\n",
      " [ 0.62080257  0.19917329]]\n"
     ]
    }
   ],
   "source": [
    "data1 = np.random.randn(3,2)\n",
    "print(data1)"
   ]
  },
  {
   "cell_type": "code",
   "execution_count": 54,
   "id": "7cc8b084",
   "metadata": {},
   "outputs": [
    {
     "name": "stdout",
     "output_type": "stream",
     "text": [
      "[[-0.83536895  0.50354243]\n",
      " [-1.61471692 -0.14848574]\n",
      " [ 0.62080257  0.19917329]]\n",
      "[[-0.83536895  0.50354243]\n",
      " [ 0.62080257  0.19917329]]\n"
     ]
    }
   ],
   "source": [
    "print(data1[[1,0,2]])\n",
    "print(data1[[1,-1]])"
   ]
  },
  {
   "cell_type": "code",
   "execution_count": 63,
   "id": "fba78614",
   "metadata": {},
   "outputs": [
    {
     "name": "stdout",
     "output_type": "stream",
     "text": [
      "[[-0.83536895]\n",
      " [ 0.62080257]]\n"
     ]
    }
   ],
   "source": [
    "# 특정 행과 열만 가져오기\n",
    "\n",
    "print(data1[[1,2]][:, [0]])"
   ]
  },
  {
   "cell_type": "code",
   "execution_count": null,
   "id": "6bb8547c",
   "metadata": {},
   "outputs": [],
   "source": []
  },
  {
   "cell_type": "code",
   "execution_count": null,
   "id": "5e8b830e",
   "metadata": {},
   "outputs": [],
   "source": []
  }
 ],
 "metadata": {
  "kernelspec": {
   "display_name": "venv",
   "language": "python",
   "name": "python3"
  },
  "language_info": {
   "codemirror_mode": {
    "name": "ipython",
    "version": 3
   },
   "file_extension": ".py",
   "mimetype": "text/x-python",
   "name": "python",
   "nbconvert_exporter": "python",
   "pygments_lexer": "ipython3",
   "version": "3.13.2"
  }
 },
 "nbformat": 4,
 "nbformat_minor": 5
}
