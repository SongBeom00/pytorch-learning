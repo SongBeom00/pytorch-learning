{
 "cells": [
  {
   "cell_type": "markdown",
   "id": "3690fcde",
   "metadata": {},
   "source": [
    "### 텐서간 곱셈 정리와 관련 메서드 익히기"
   ]
  },
  {
   "cell_type": "markdown",
   "id": "2be5d67a",
   "metadata": {},
   "source": [
    "### PyTorch와 텐서간의 곱셈\n",
    "\n",
    "- torch.matmal() : 메서드가 다양한 텐서 곱셈 연산을 지원\n",
    "- torch.mm()은 2D 텐서, torch.bmm()은 3D 텐서 간의 연산만 지원합니다.\n",
    "\n",
    "> 그래서 matmal() 메서드와의 차이점을 알 필요가 있다."
   ]
  },
  {
   "cell_type": "code",
   "execution_count": null,
   "id": "c11d7dbf",
   "metadata": {},
   "outputs": [
    {
     "name": "stdout",
     "output_type": "stream",
     "text": [
      "tensor([2, 2, 2]) 1 torch.Size([3])\n",
      "tensor([3, 3, 3]) 1 torch.Size([3])\n",
      "tensor(18) torch.Size([])\n"
     ]
    }
   ],
   "source": [
    "import torch\n",
    "\n",
    "A = torch.full((3,),2) # vector 생성\n",
    "B = torch.full((3,),3)\n",
    "\n",
    "print(A, A.dim(), A.shape)\n",
    "print(B, B.dim(), B.shape)\n",
    "result = torch.matmul(A,B)\n",
    "print(result, result.shape) # scala 값이 반환됩니다."
   ]
  },
  {
   "cell_type": "code",
   "execution_count": null,
   "id": "2d8c1fda",
   "metadata": {},
   "outputs": [],
   "source": []
  },
  {
   "cell_type": "code",
   "execution_count": null,
   "id": "771dcdeb",
   "metadata": {},
   "outputs": [],
   "source": []
  },
  {
   "cell_type": "code",
   "execution_count": null,
   "id": "12b58b07",
   "metadata": {},
   "outputs": [],
   "source": []
  }
 ],
 "metadata": {
  "kernelspec": {
   "display_name": "venv",
   "language": "python",
   "name": "python3"
  },
  "language_info": {
   "codemirror_mode": {
    "name": "ipython",
    "version": 3
   },
   "file_extension": ".py",
   "mimetype": "text/x-python",
   "name": "python",
   "nbconvert_exporter": "python",
   "pygments_lexer": "ipython3",
   "version": "3.13.2"
  }
 },
 "nbformat": 4,
 "nbformat_minor": 5
}
