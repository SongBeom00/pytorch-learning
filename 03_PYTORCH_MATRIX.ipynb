{
 "cells": [
  {
   "cell_type": "markdown",
   "id": "3690fcde",
   "metadata": {},
   "source": [
    "### 텐서간 곱셈 정리와 관련 메서드 익히기"
   ]
  },
  {
   "cell_type": "markdown",
   "id": "2be5d67a",
   "metadata": {},
   "source": [
    "### PyTorch와 텐서간의 곱셈\n",
    "\n",
    "- torch.matmal() : 메서드가 다양한 텐서 곱셈 연산을 지원\n",
    "- torch.mm()은 2D 텐서, torch.bmm()은 3D 텐서 간의 연산만 지원합니다.\n",
    "\n",
    "> 그래서 matmal() 메서드와의 차이점을 알 필요가 있다."
   ]
  },
  {
   "cell_type": "code",
   "execution_count": 2,
   "id": "c11d7dbf",
   "metadata": {},
   "outputs": [
    {
     "name": "stdout",
     "output_type": "stream",
     "text": [
      "tensor([2, 2, 2]) 1 torch.Size([3])\n",
      "tensor([3, 3, 3]) 1 torch.Size([3])\n",
      "tensor(18) torch.Size([])\n"
     ]
    }
   ],
   "source": [
    "import torch\n",
    "\n",
    "A = torch.full((3,),2) # vector 생성\n",
    "B = torch.full((3,),3)\n",
    "\n",
    "print(A, A.dim(), A.shape)\n",
    "print(B, B.dim(), B.shape)\n",
    "result = torch.matmul(A,B)\n",
    "print(result, result.shape) # scala 값이 반환됩니다."
   ]
  },
  {
   "cell_type": "code",
   "execution_count": 5,
   "id": "2d8c1fda",
   "metadata": {},
   "outputs": [
    {
     "name": "stdout",
     "output_type": "stream",
     "text": [
      "torch.Size([3, 3])\n"
     ]
    }
   ],
   "source": [
    "A = torch.full((3,2),2)\n",
    "B = torch.full((2,3),3)\n",
    "\n",
    "result = torch.matmul(A,B)\n",
    "\n",
    "print(result.shape)\n"
   ]
  },
  {
   "cell_type": "markdown",
   "id": "d80a565e",
   "metadata": {},
   "source": [
    "**1D(벡터) X 2D(행렬)**"
   ]
  },
  {
   "cell_type": "code",
   "execution_count": 6,
   "id": "771dcdeb",
   "metadata": {},
   "outputs": [
    {
     "name": "stdout",
     "output_type": "stream",
     "text": [
      "tensor([18, 18]) torch.Size([2])\n"
     ]
    }
   ],
   "source": [
    "x = torch.full((3,),2)\n",
    "A = torch.full((3,2),3)\n",
    "\n",
    "result = torch.matmul(x,A)\n",
    "print(result, result.shape)"
   ]
  },
  {
   "cell_type": "markdown",
   "id": "611f2ebe",
   "metadata": {},
   "source": [
    "**2D(행렬) X 1D(벡터)**"
   ]
  },
  {
   "cell_type": "code",
   "execution_count": 7,
   "id": "12b58b07",
   "metadata": {},
   "outputs": [
    {
     "name": "stdout",
     "output_type": "stream",
     "text": [
      "tensor([12, 12, 12]) torch.Size([3])\n"
     ]
    }
   ],
   "source": [
    "import torch\n",
    "\n",
    "x = torch.full((2,),2)\n",
    "A = torch.full((3,2),3)\n",
    "\n",
    "result = torch.matmul(A,x)\n",
    "\n",
    "print(result, result.shape)"
   ]
  },
  {
   "cell_type": "markdown",
   "id": "56c74d10",
   "metadata": {},
   "source": [
    "**3D 이상 텐서 X 1D 텐서 (벡터)**"
   ]
  },
  {
   "cell_type": "code",
   "execution_count": 8,
   "id": "ad03ed43",
   "metadata": {},
   "outputs": [
    {
     "name": "stdout",
     "output_type": "stream",
     "text": [
      "tensor([[12, 12, 12],\n",
      "        [12, 12, 12],\n",
      "        [12, 12, 12],\n",
      "        [12, 12, 12]]) torch.Size([4, 3])\n"
     ]
    }
   ],
   "source": [
    "import torch\n",
    "\n",
    "x = torch.full((2,),2)\n",
    "A = torch.full((4,3,2),3)\n",
    "\n",
    "result = torch.matmul(A,x)\n",
    "print(result, result.shape)"
   ]
  },
  {
   "cell_type": "code",
   "execution_count": 10,
   "id": "ce88f302",
   "metadata": {},
   "outputs": [
    {
     "name": "stdout",
     "output_type": "stream",
     "text": [
      "4 torch.Size([10, 1, 3, 4])\n",
      "3 torch.Size([2, 4, 5])\n",
      "torch.Size([10, 2, 3, 5])\n"
     ]
    }
   ],
   "source": [
    "import torch\n",
    "\n",
    "\n",
    "data1 = torch.full((10,1,3,4),2)\n",
    "data2 = torch.full((2,4,5),3)\n",
    "\n",
    "print(data1.dim(), data1.shape)\n",
    "print(data2.dim(), data2.shape)\n",
    "\n",
    "data3 = torch.matmul(data1, data2)\n",
    "print(data3.shape)"
   ]
  },
  {
   "cell_type": "code",
   "execution_count": 11,
   "id": "30e0629c",
   "metadata": {},
   "outputs": [
    {
     "name": "stdout",
     "output_type": "stream",
     "text": [
      "4 torch.Size([10, 8, 3, 4])\n",
      "4 torch.Size([1, 8, 4, 5])\n",
      "torch.Size([10, 8, 3, 5])\n"
     ]
    }
   ],
   "source": [
    "import torch\n",
    "\n",
    "\n",
    "data1 = torch.full((10,8,3,4),2)\n",
    "data2 = torch.full((1,8,4,5),3)\n",
    "\n",
    "print(data1.dim(), data1.shape)\n",
    "print(data2.dim(), data2.shape)\n",
    "\n",
    "data3 = torch.matmul(data1, data2)\n",
    "print(data3.shape)"
   ]
  },
  {
   "cell_type": "markdown",
   "id": "a4c43a6a",
   "metadata": {},
   "source": [
    "**torch.mm()**\n",
    "\n",
    "- 행렬곱만 지원함\n",
    "\n",
    "- 두 인자 모두 행렬 shape 이어야 함"
   ]
  },
  {
   "cell_type": "code",
   "execution_count": null,
   "id": "56230794",
   "metadata": {},
   "outputs": [
    {
     "name": "stdout",
     "output_type": "stream",
     "text": [
      "2 torch.Size([3, 4])\n",
      "2 torch.Size([4, 5])\n",
      "torch.Size([3, 5])\n"
     ]
    }
   ],
   "source": [
    "import torch\n",
    "\n",
    "data1 = torch.full((3,4),2)\n",
    "data2 = torch.full((4,5),3)\n",
    "\n",
    "print(data1.dim(), data1.shape) # 2, (3, 4)\n",
    "\n",
    "print(data2.dim(), data2.shape) # 2 , (4, 5)\n",
    "\n",
    "data3 = torch.mm(data1,data2)\n",
    "print(data3.shape) # (3, 5)"
   ]
  },
  {
   "cell_type": "markdown",
   "id": "199e0a0a",
   "metadata": {},
   "source": [
    "**torch.bmm()**\n",
    "\n",
    "- 두 인자 모두 3D 텐서 shape 이어야 함\n",
    "- boardcast를 지원하지 않으므로, 마지막 두 axis 외에는 두 인자 모두 동일한 차원이어야 함"
   ]
  },
  {
   "cell_type": "code",
   "execution_count": null,
   "id": "5d5f9a21",
   "metadata": {},
   "outputs": [
    {
     "name": "stdout",
     "output_type": "stream",
     "text": [
      "3 torch.Size([3, 3, 4])\n",
      "3 torch.Size([3, 4, 5])\n",
      "torch.Size([3, 3, 5])\n"
     ]
    }
   ],
   "source": [
    "import torch\n",
    "\n",
    "data1 = torch.full((3, 3, 4),2)\n",
    "data2 = torch.full((3, 4, 5),3)\n",
    "\n",
    "print(data1.dim(), data1.shape)\n",
    "\n",
    "print(data2.dim(), data2.shape)\n",
    "\n",
    "data3 = torch.bmm(data1,data2)\n",
    "print(data3.shape) "
   ]
  },
  {
   "cell_type": "code",
   "execution_count": null,
   "id": "2d2f5806",
   "metadata": {},
   "outputs": [],
   "source": []
  },
  {
   "cell_type": "code",
   "execution_count": null,
   "id": "33fc88b4",
   "metadata": {},
   "outputs": [],
   "source": []
  },
  {
   "cell_type": "code",
   "execution_count": null,
   "id": "ab98708b",
   "metadata": {},
   "outputs": [],
   "source": []
  },
  {
   "cell_type": "code",
   "execution_count": null,
   "id": "7ec32c69",
   "metadata": {},
   "outputs": [],
   "source": []
  }
 ],
 "metadata": {
  "kernelspec": {
   "display_name": "venv",
   "language": "python",
   "name": "python3"
  },
  "language_info": {
   "codemirror_mode": {
    "name": "ipython",
    "version": 3
   },
   "file_extension": ".py",
   "mimetype": "text/x-python",
   "name": "python",
   "nbconvert_exporter": "python",
   "pygments_lexer": "ipython3",
   "version": "3.13.2"
  }
 },
 "nbformat": 4,
 "nbformat_minor": 5
}
