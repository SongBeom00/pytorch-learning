{
 "cells": [
  {
   "cell_type": "markdown",
   "id": "61a617e3",
   "metadata": {},
   "source": [
    "### 자동 미분 (torch.autograd)\n",
    "\n",
    "- PyTorch의 autograd 는 신경망 훈련을 지원하는 자동 미분 가능\n",
    "- torch.autograd 동작 방법\n",
    "    - 텐서에 .requires_grad 속성을 True로 설정하면, 이후의 텐서 모든 연산들을 추적함\n",
    "    - 텐서.backward() 를 호출하면, 연산에 연결된 각 텐서들의 미분 값을 계산하여, 각 텐서 객체에 .grad에 저장\n",
    "        - .requires_grad_()는 연결된 Tensor로부터의 계산된 자동미분 값을, 다시 현 텐서부터 시작하도록 만듦"
   ]
  },
  {
   "cell_type": "markdown",
   "id": "64d5044f",
   "metadata": {},
   "source": [
    "### 신경망 동작 이해\n",
    "\n",
    "- 모델 및 데이터 생성\n",
    "- forward pass로 입력 데이터를 모델에 넣어서 예측값 계산\n",
    "- 예측값과 실제값의 차이를 loss function 으로 계산\n",
    "- backward pass 로 각 모델 파라미터를 loss 값 기반 미분하여 저장\n",
    "- optimizer 로 모델 파라미터의 최적값을 찾기 위해, 파라미터 값 업데이트"
   ]
  },
  {
   "cell_type": "markdown",
   "id": "9fe383b7",
   "metadata": {},
   "source": [
    "- 텐서에 .requires_grad 속성을 True 로 설정\n",
    "- .requires_grad 속성이 True 로 설정되면, 텐서의 모든 연산 추적을 위해, 내부적으로 방향성 비순환 그래프(DAG : Directed Acyclic Graph)를 동적 구성\n",
    "    - 방향성 비순환 그래프(DAG)의 leaf 노드는 입력 텐서이고, root 노드는 결과 텐서가 됨"
   ]
  },
  {
   "cell_type": "code",
   "execution_count": 15,
   "id": "342f3a9e",
   "metadata": {},
   "outputs": [],
   "source": [
    "import torch\n",
    "\n",
    "x = torch.rand(1, requires_grad=True)\n",
    "y = torch.rand(1)\n",
    "y.requires_grad = True\n",
    "loss = y - x"
   ]
  },
  {
   "cell_type": "markdown",
   "id": "79dfe2a7",
   "metadata": {},
   "source": [
    "### 🔁 텐서의 `.backward()` 동작 설명\n",
    "\n",
    "- `tensor.backward()` 를 호출하면,  \n",
    "  연산에 연결된 각 텐서들의 **미분 값(gradient)**을 자동으로 계산하여  \n",
    "  각 텐서 객체의 `.grad` 속성에 저장된다.\n",
    "\n",
    "---\n",
    "\n",
    "### 🎯 예시\n",
    "\n",
    "$$\n",
    "\\frac{\\partial \\text{Loss}}{\\partial x} = -1, \\quad \\frac{\\partial \\text{Loss}}{\\partial y} = 1\n",
    "$$\n",
    "\n",
    "> 즉, Loss를 기준으로 각 입력값에 대한 **기울기(gradient)**가 계산되어  \n",
    "> `.grad` 속성에 자동으로 저장된다."
   ]
  },
  {
   "cell_type": "code",
   "execution_count": 16,
   "id": "bcd5c43d",
   "metadata": {},
   "outputs": [
    {
     "name": "stdout",
     "output_type": "stream",
     "text": [
      "tensor([-1.]) tensor([1.])\n"
     ]
    }
   ],
   "source": [
    "loss.backward()\n",
    "print(x.grad, y.grad)"
   ]
  },
  {
   "cell_type": "code",
   "execution_count": 17,
   "id": "3a2e3ad7",
   "metadata": {},
   "outputs": [
    {
     "name": "stdout",
     "output_type": "stream",
     "text": [
      "tensor([[0.1585, 0.6102, 0.5972],\n",
      "        [0.7539, 0.8972, 0.9954],\n",
      "        [0.8169, 0.9658, 0.9572],\n",
      "        [0.7603, 0.8970, 0.4142]], requires_grad=True) tensor([0.0068, 0.2385, 0.3447], requires_grad=True) tensor([2.4964, 3.6086, 3.3087], grad_fn=<AddBackward0>)\n"
     ]
    }
   ],
   "source": [
    "x = torch.ones(4)\n",
    "y = torch.zeros(3)\n",
    "W = torch.rand(4, 3, requires_grad=True)\n",
    "b = torch.rand(3, requires_grad=True)\n",
    "z = torch.matmul(x,W) + b\n",
    "print(W, b, z)"
   ]
  },
  {
   "cell_type": "code",
   "execution_count": 18,
   "id": "949683ed",
   "metadata": {},
   "outputs": [
    {
     "name": "stdout",
     "output_type": "stream",
     "text": [
      "tensor(10.0673, grad_fn=<MseLossBackward0>) tensor([[1.6643, 2.4058, 2.2058],\n",
      "        [1.6643, 2.4058, 2.2058],\n",
      "        [1.6643, 2.4058, 2.2058],\n",
      "        [1.6643, 2.4058, 2.2058]]) tensor([1.6643, 2.4058, 2.2058])\n"
     ]
    }
   ],
   "source": [
    "import torch.nn.functional as F\n",
    "\n",
    "loss = F.mse_loss(z, y)\n",
    "loss.backward()\n",
    "print(loss, W.grad, b.grad)\n"
   ]
  },
  {
   "cell_type": "code",
   "execution_count": 19,
   "id": "bfb0109b",
   "metadata": {},
   "outputs": [
    {
     "name": "stdout",
     "output_type": "stream",
     "text": [
      "1 tensor(10.0673, grad_fn=<MseLossBackward0>) tensor([2.4964, 3.6086, 3.3087], grad_fn=<AddBackward0>) tensor([0., 0., 0.])\n",
      "2 tensor(4.4744, grad_fn=<MseLossBackward0>) tensor([1.6643, 2.4058, 2.2058], grad_fn=<AddBackward0>) tensor([0., 0., 0.])\n",
      "3 tensor(1.9886, grad_fn=<MseLossBackward0>) tensor([1.1095, 1.6038, 1.4705], grad_fn=<AddBackward0>) tensor([0., 0., 0.])\n",
      "4 tensor(0.8838, grad_fn=<MseLossBackward0>) tensor([0.7397, 1.0692, 0.9804], grad_fn=<AddBackward0>) tensor([0., 0., 0.])\n",
      "5 tensor(0.3928, grad_fn=<MseLossBackward0>) tensor([0.4931, 0.7128, 0.6536], grad_fn=<AddBackward0>) tensor([0., 0., 0.])\n",
      "6 tensor(0.1746, grad_fn=<MseLossBackward0>) tensor([0.3287, 0.4752, 0.4357], grad_fn=<AddBackward0>) tensor([0., 0., 0.])\n",
      "7 tensor(0.0776, grad_fn=<MseLossBackward0>) tensor([0.2192, 0.3168, 0.2905], grad_fn=<AddBackward0>) tensor([0., 0., 0.])\n"
     ]
    }
   ],
   "source": [
    "threshold = 0.1\n",
    "learning_rate = 0.1\n",
    "iteration_num = 0\n",
    "\n",
    "while loss > threshold :\n",
    "    iteration_num += 1\n",
    "    W = W - learning_rate * W.grad\n",
    "    b = b - learning_rate * b.grad\n",
    "    print(iteration_num, loss, z, y)\n",
    "    \n",
    "    # detach_() : 텐서를 기존 방향성 비순환 그래프(DAG : Directed Acyclic Graph) 로부터 끊음\n",
    "    # .requires_grad(True) : 연결된 Tensor 로부터의 계산된 자동미분 값을, 다시 현 텐서부터 시작하도록 만듦\n",
    "    W.detach_().requires_grad_(True)\n",
    "    b.detach_().requires_grad_(True)\n",
    "\n",
    "    z = torch.matmul(x, W) + b\n",
    "    loss = F.mse_loss(z, y)\n",
    "    loss.backward()\n",
    "\n",
    "print(iteration_num + 1, loss, z, y)"
   ]
  },
  {
   "cell_type": "markdown",
   "id": "5ef8e83c",
   "metadata": {},
   "source": [
    "### Optimizer 와 경사 하강법\n",
    "\n",
    "- 최적화는 각 학습 단계에서 모델의 오류를 줄이기 위해서 모델 매개변수를 조정하는 과정으로 Optimizer는 최적화 알고리즘을 의미합니다.\n",
    "- 대표적인 최적화 알고리즘에는 확률적 경사하강법(SGD: Stochastic Gradient Descent)\n",
    "- PyTorch 에는 모델과 데이터 타입에 따라, 보다 좋은 성능을 제공하는 ADAM 이나 RMSProp과 같은 다양한 옵티마이저가 존재합니다."
   ]
  },
  {
   "cell_type": "code",
   "execution_count": 20,
   "id": "1def7d41",
   "metadata": {},
   "outputs": [
    {
     "name": "stdout",
     "output_type": "stream",
     "text": [
      "tensor(2.)\n",
      "tensor(4.)\n",
      "tensor(6.)\n"
     ]
    }
   ],
   "source": [
    "import torch\n",
    "\n",
    "w = torch.tensor(4.0, requires_grad=True)\n",
    "z = 2 * w\n",
    "z.backward()\n",
    "print(w.grad)\n",
    "\n",
    "z = 2 * w\n",
    "z.backward()\n",
    "print(w.grad)\n",
    "\n",
    "z = 2 * w\n",
    "z.backward()\n",
    "print(w.grad)"
   ]
  },
  {
   "cell_type": "markdown",
   "id": "a5b73491",
   "metadata": {},
   "source": [
    "### SGD 경사하강법 Optimizer 적용"
   ]
  },
  {
   "cell_type": "code",
   "execution_count": 21,
   "id": "f6c87773",
   "metadata": {},
   "outputs": [],
   "source": [
    "import torch\n",
    "\n",
    "x = torch.ones(4)\n",
    "y = torch.zeros(3)\n",
    "\n",
    "W = torch.rand(4, 3, requires_grad=True)\n",
    "b = torch.rand(3, requires_grad=True)"
   ]
  },
  {
   "cell_type": "code",
   "execution_count": 22,
   "id": "1a993df5",
   "metadata": {},
   "outputs": [
    {
     "data": {
      "text/plain": [
       "SGD (\n",
       "Parameter Group 0\n",
       "    dampening: 0\n",
       "    differentiable: False\n",
       "    foreach: None\n",
       "    fused: None\n",
       "    lr: 0.01\n",
       "    maximize: False\n",
       "    momentum: 0\n",
       "    nesterov: False\n",
       "    weight_decay: 0\n",
       ")"
      ]
     },
     "execution_count": 22,
     "metadata": {},
     "output_type": "execute_result"
    }
   ],
   "source": [
    "learning_rate = 0.01\n",
    "optimizer = torch.optim.SGD([W, b], lr=learning_rate)\n",
    "optimizer"
   ]
  },
  {
   "cell_type": "code",
   "execution_count": 23,
   "id": "dd54fb06",
   "metadata": {},
   "outputs": [
    {
     "name": "stdout",
     "output_type": "stream",
     "text": [
      "0 300 tensor([[0.8420, 0.1585, 0.0583],\n",
      "        [0.2627, 0.6816, 0.9305],\n",
      "        [0.3108, 0.6757, 0.8515],\n",
      "        [0.2905, 0.8326, 0.9512]], requires_grad=True) tensor([0.2471, 0.8214, 0.9094], requires_grad=True) tensor(9.8308, grad_fn=<MseLossBackward0>)\n",
      "100 300 tensor([[ 0.4645, -0.4541, -0.6569],\n",
      "        [-0.1147,  0.0690,  0.2152],\n",
      "        [-0.0667,  0.0631,  0.1363],\n",
      "        [-0.0870,  0.2200,  0.2359]], requires_grad=True) tensor([-0.1303,  0.2088,  0.1942], requires_grad=True) tensor(0.0112, grad_fn=<MseLossBackward0>)\n",
      "200 300 tensor([[ 0.4518, -0.4747, -0.6810],\n",
      "        [-0.1275,  0.0483,  0.1911],\n",
      "        [-0.0794,  0.0425,  0.1122],\n",
      "        [-0.0997,  0.1994,  0.2118]], requires_grad=True) tensor([-0.1431,  0.1881,  0.1701], requires_grad=True) tensor(1.2685e-05, grad_fn=<MseLossBackward0>)\n",
      "300 300 tensor([[ 0.4514, -0.4754, -0.6818],\n",
      "        [-0.1279,  0.0476,  0.1903],\n",
      "        [-0.0798,  0.0418,  0.1114],\n",
      "        [-0.1001,  0.1987,  0.2110]], requires_grad=True) tensor([-0.1435,  0.1874,  0.1693], requires_grad=True) tensor(1.4417e-08, grad_fn=<MseLossBackward0>)\n"
     ]
    }
   ],
   "source": [
    "nb_epochs = 300  # 원하는 만큼 경사하강법 반복\n",
    "for epoch in range(nb_epochs + 1):\n",
    "    \n",
    "    z = torch.matmul(x, W) + b\n",
    "    loss = F.mse_loss(z, y)\n",
    "    \n",
    "    optimizer.zero_grad() # 기울기 초기화\n",
    "    loss.backward() # 기울기 계산\n",
    "    optimizer.step() # 파라미터 업데이트 \n",
    "    \n",
    "    if epoch % 100 == 0:\n",
    "        print(epoch, nb_epochs, W, b, loss)"
   ]
  },
  {
   "cell_type": "markdown",
   "id": "12905801",
   "metadata": {},
   "source": [
    "### SGD 경사하강법 Optimizer 적용 (PyTorch 신경망 모델 클래스 기반)"
   ]
  },
  {
   "cell_type": "code",
   "execution_count": 24,
   "id": "9e4f705c",
   "metadata": {},
   "outputs": [
    {
     "data": {
      "text/plain": [
       "LinearRegressionModel(\n",
       "  (linear): Linear(in_features=4, out_features=3, bias=True)\n",
       ")"
      ]
     },
     "execution_count": 24,
     "metadata": {},
     "output_type": "execute_result"
    }
   ],
   "source": [
    "import torch\n",
    "import torch.nn as nn\n",
    "import torch.nn.functional as F\n",
    "\n",
    "class LinearRegressionModel(nn.Module):\n",
    "    def __init__(self, input_dim, output_dim):\n",
    "        super().__init__()\n",
    "        self.linear = nn.Linear(input_dim, output_dim)\n",
    "        \n",
    "    def forward(self, x):\n",
    "        return self.linear(x)\n",
    "    \n",
    "model = LinearRegressionModel(4,3)\n",
    "model"
   ]
  },
  {
   "cell_type": "code",
   "execution_count": 25,
   "id": "61b9b3a9",
   "metadata": {},
   "outputs": [],
   "source": [
    "x = torch.ones(4)\n",
    "y = torch.zeros(3)\n",
    "\n",
    "learning_rate = 0.01\n",
    "nb_epochs = 1000\n",
    "optimizer = torch.optim.SGD(model.parameters(), lr=learning_rate)\n",
    "\n",
    "for epoch in range(nb_epochs + 1):\n",
    "    \n",
    "    pred = model(x)\n",
    "    loss = F.mse_loss(pred, y)\n",
    "    \n",
    "    optimizer.zero_grad()\n",
    "    loss.backward()\n",
    "    optimizer.step()"
   ]
  },
  {
   "cell_type": "code",
   "execution_count": 26,
   "id": "9f72ceca",
   "metadata": {},
   "outputs": [
    {
     "name": "stdout",
     "output_type": "stream",
     "text": [
      "tensor(2.4874e-14, grad_fn=<MseLossBackward0>)\n",
      "Parameter containing:\n",
      "tensor([[ 0.0121,  0.4014, -0.2788, -0.3444],\n",
      "        [ 0.0059, -0.4401,  0.2281,  0.2633],\n",
      "        [-0.2843, -0.0418,  0.3556, -0.3609]], requires_grad=True)\n",
      "Parameter containing:\n",
      "tensor([ 0.2097, -0.0572,  0.3314], requires_grad=True)\n"
     ]
    }
   ],
   "source": [
    "print(loss)\n",
    "for param in model.parameters():\n",
    "    print(param)"
   ]
  },
  {
   "cell_type": "code",
   "execution_count": 27,
   "id": "aa68674a",
   "metadata": {},
   "outputs": [
    {
     "name": "stdout",
     "output_type": "stream",
     "text": [
      ".. _diabetes_dataset:\n",
      "\n",
      "Diabetes dataset\n",
      "----------------\n",
      "\n",
      "Ten baseline variables, age, sex, body mass index, average blood\n",
      "pressure, and six blood serum measurements were obtained for each of n =\n",
      "442 diabetes patients, as well as the response of interest, a\n",
      "quantitative measure of disease progression one year after baseline.\n",
      "\n",
      "**Data Set Characteristics:**\n",
      "\n",
      ":Number of Instances: 442\n",
      "\n",
      ":Number of Attributes: First 10 columns are numeric predictive values\n",
      "\n",
      ":Target: Column 11 is a quantitative measure of disease progression one year after baseline\n",
      "\n",
      ":Attribute Information:\n",
      "    - age     age in years\n",
      "    - sex\n",
      "    - bmi     body mass index\n",
      "    - bp      average blood pressure\n",
      "    - s1      tc, total serum cholesterol\n",
      "    - s2      ldl, low-density lipoproteins\n",
      "    - s3      hdl, high-density lipoproteins\n",
      "    - s4      tch, total cholesterol / HDL\n",
      "    - s5      ltg, possibly log of serum triglycerides level\n",
      "    - s6      glu, blood sugar level\n",
      "\n",
      "Note: Each of these 10 feature variables have been mean centered and scaled by the standard deviation times the square root of `n_samples` (i.e. the sum of squares of each column totals 1).\n",
      "\n",
      "Source URL:\n",
      "https://www4.stat.ncsu.edu/~boos/var.select/diabetes.html\n",
      "\n",
      "For more information see:\n",
      "Bradley Efron, Trevor Hastie, Iain Johnstone and Robert Tibshirani (2004) \"Least Angle Regression,\" Annals of Statistics (with discussion), 407-499.\n",
      "(https://web.stanford.edu/~hastie/Papers/LARS/LeastAngle_2002.pdf)\n",
      "\n",
      "torch.Size([442, 9])\n",
      "torch.Size([442, 1])\n"
     ]
    }
   ],
   "source": [
    "import torch\n",
    "import pandas as pd\n",
    "import numpy as np\n",
    "from sklearn.datasets import load_diabetes\n",
    "\n",
    "\n",
    "diabetes_data = load_diabetes()\n",
    "\n",
    "print(diabetes_data.DESCR) # 데이터 세트에 대한 전체 설명\n",
    "\n",
    "x = torch.from_numpy(np.array(diabetes_data.data[:,:-1],dtype=np.float32))\n",
    "y = torch.from_numpy(np.array(diabetes_data.data[:,[-1]],dtype=np.float32))\n",
    "\n",
    "print(x.shape)\n",
    "print(y.shape)"
   ]
  },
  {
   "cell_type": "code",
   "execution_count": 28,
   "id": "7c2bd0fc",
   "metadata": {},
   "outputs": [
    {
     "data": {
      "text/plain": [
       "9"
      ]
     },
     "execution_count": 28,
     "metadata": {},
     "output_type": "execute_result"
    }
   ],
   "source": [
    "x.size(1)"
   ]
  },
  {
   "cell_type": "code",
   "execution_count": 32,
   "id": "64c6d200",
   "metadata": {},
   "outputs": [
    {
     "data": {
      "text/plain": [
       "LinearRegressionModel(\n",
       "  (linear): Linear(in_features=9, out_features=1, bias=True)\n",
       ")"
      ]
     },
     "execution_count": 32,
     "metadata": {},
     "output_type": "execute_result"
    }
   ],
   "source": [
    "import torch\n",
    "import torch.nn as nn\n",
    "import torch.nn.functional as F\n",
    "\n",
    "class LinearRegressionModel(nn.Module):\n",
    "    def __init__(self, input_dim, output_dim):\n",
    "        super().__init__()\n",
    "        self.linear = nn.Linear(input_dim, output_dim)\n",
    "    \n",
    "    def forward(self, x):\n",
    "        return self.linear(x)\n",
    "    \n",
    "model = LinearRegressionModel(x.size(1), y.size(1))\n",
    "model"
   ]
  },
  {
   "cell_type": "code",
   "execution_count": 33,
   "id": "e8029f16",
   "metadata": {},
   "outputs": [],
   "source": [
    "learning_rate = 0.01\n",
    "nb_epochs = 10000\n",
    "\n",
    "optimizer = torch.optim.SGD(model.parameters(),lr=learning_rate)\n",
    "\n",
    "for epoch in range(nb_epochs + 1):\n",
    "    \n",
    "    y_pred = model(x)\n",
    "    loss = F.mse_loss(y_pred, y)\n",
    "    \n",
    "    optimizer.zero_grad()\n",
    "    loss.backward()\n",
    "    optimizer.step()"
   ]
  },
  {
   "cell_type": "code",
   "execution_count": 34,
   "id": "2126aec0",
   "metadata": {},
   "outputs": [
    {
     "data": {
      "text/plain": [
       "torch.Size([442, 1])"
      ]
     },
     "execution_count": 34,
     "metadata": {},
     "output_type": "execute_result"
    }
   ],
   "source": [
    "y_pred.shape"
   ]
  },
  {
   "cell_type": "code",
   "execution_count": 35,
   "id": "7ea823d9",
   "metadata": {},
   "outputs": [
    {
     "name": "stdout",
     "output_type": "stream",
     "text": [
      "Parameter containing:\n",
      "tensor([[-0.0807,  0.1439,  0.0961, -0.0918,  0.0151,  0.2049, -0.2188, -0.1825,\n",
      "          0.3418]], requires_grad=True)\n",
      "Parameter containing:\n",
      "tensor([1.8340e-10], requires_grad=True)\n"
     ]
    }
   ],
   "source": [
    "for param in model.parameters():\n",
    "    print(param)"
   ]
  },
  {
   "cell_type": "code",
   "execution_count": 37,
   "id": "0fa1671b",
   "metadata": {},
   "outputs": [
    {
     "data": {
      "text/html": [
       "<div>\n",
       "<style scoped>\n",
       "    .dataframe tbody tr th:only-of-type {\n",
       "        vertical-align: middle;\n",
       "    }\n",
       "\n",
       "    .dataframe tbody tr th {\n",
       "        vertical-align: top;\n",
       "    }\n",
       "\n",
       "    .dataframe thead th {\n",
       "        text-align: right;\n",
       "    }\n",
       "</style>\n",
       "<table border=\"1\" class=\"dataframe\">\n",
       "  <thead>\n",
       "    <tr style=\"text-align: right;\">\n",
       "      <th></th>\n",
       "      <th>y</th>\n",
       "      <th>y_pred</th>\n",
       "    </tr>\n",
       "  </thead>\n",
       "  <tbody>\n",
       "    <tr>\n",
       "      <th>0</th>\n",
       "      <td>-0.017646</td>\n",
       "      <td>0.017110</td>\n",
       "    </tr>\n",
       "    <tr>\n",
       "      <th>1</th>\n",
       "      <td>-0.092204</td>\n",
       "      <td>-0.045283</td>\n",
       "    </tr>\n",
       "    <tr>\n",
       "      <th>2</th>\n",
       "      <td>-0.025930</td>\n",
       "      <td>0.006037</td>\n",
       "    </tr>\n",
       "    <tr>\n",
       "      <th>3</th>\n",
       "      <td>-0.009362</td>\n",
       "      <td>0.017698</td>\n",
       "    </tr>\n",
       "    <tr>\n",
       "      <th>4</th>\n",
       "      <td>-0.046641</td>\n",
       "      <td>-0.021350</td>\n",
       "    </tr>\n",
       "    <tr>\n",
       "      <th>...</th>\n",
       "      <td>...</td>\n",
       "      <td>...</td>\n",
       "    </tr>\n",
       "    <tr>\n",
       "      <th>437</th>\n",
       "      <td>0.007207</td>\n",
       "      <td>0.017126</td>\n",
       "    </tr>\n",
       "    <tr>\n",
       "      <th>438</th>\n",
       "      <td>0.044485</td>\n",
       "      <td>0.023209</td>\n",
       "    </tr>\n",
       "    <tr>\n",
       "      <th>439</th>\n",
       "      <td>0.015491</td>\n",
       "      <td>-0.011123</td>\n",
       "    </tr>\n",
       "    <tr>\n",
       "      <th>440</th>\n",
       "      <td>-0.025930</td>\n",
       "      <td>0.020911</td>\n",
       "    </tr>\n",
       "    <tr>\n",
       "      <th>441</th>\n",
       "      <td>0.003064</td>\n",
       "      <td>-0.027597</td>\n",
       "    </tr>\n",
       "  </tbody>\n",
       "</table>\n",
       "<p>442 rows × 2 columns</p>\n",
       "</div>"
      ],
      "text/plain": [
       "            y    y_pred\n",
       "0   -0.017646  0.017110\n",
       "1   -0.092204 -0.045283\n",
       "2   -0.025930  0.006037\n",
       "3   -0.009362  0.017698\n",
       "4   -0.046641 -0.021350\n",
       "..        ...       ...\n",
       "437  0.007207  0.017126\n",
       "438  0.044485  0.023209\n",
       "439  0.015491 -0.011123\n",
       "440 -0.025930  0.020911\n",
       "441  0.003064 -0.027597\n",
       "\n",
       "[442 rows x 2 columns]"
      ]
     },
     "execution_count": 37,
     "metadata": {},
     "output_type": "execute_result"
    }
   ],
   "source": [
    "df = pd.DataFrame(torch.concat([y, y_pred],dim=1).detach_().numpy(),columns=[\"y\",\"y_pred\"])\n",
    "df"
   ]
  },
  {
   "cell_type": "code",
   "execution_count": 49,
   "id": "0684a954",
   "metadata": {},
   "outputs": [
    {
     "data": {
      "image/png": "[encoded data removed]",
      "text/plain": [
       "<Figure size 1000x600 with 1 Axes>"
      ]
     },
     "metadata": {},
     "output_type": "display_data"
    }
   ],
   "source": [
    "import matplotlib.pyplot as plt\n",
    "import seaborn as sns\n",
    "\n",
    "\n",
    "plt.figure(figsize=(10,6))\n",
    "plt.scatter(x=df.index,y=df['y'],marker=\"x\", label='y')\n",
    "plt.scatter(x=df.index,y=df['y_pred'],marker=\"o\", label='y_pred')\n",
    "\n",
    "plt.legend()\n",
    "\n",
    "plt.show()"
   ]
  },
  {
   "cell_type": "code",
   "execution_count": null,
   "id": "dcf5c5da",
   "metadata": {},
   "outputs": [],
   "source": []
  }
 ],
 "metadata": {
  "kernelspec": {
   "display_name": ".venv",
   "language": "python",
   "name": "python3"
  },
  "language_info": {
   "codemirror_mode": {
    "name": "ipython",
    "version": 3
   },
   "file_extension": ".py",
   "mimetype": "text/x-python",
   "name": "python",
   "nbconvert_exporter": "python",
   "pygments_lexer": "ipython3",
   "version": "3.12.9"
  }
 },
 "nbformat": 4,
 "nbformat_minor": 5
}
