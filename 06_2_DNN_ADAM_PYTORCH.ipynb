{
 "cells": [
  {
   "cell_type": "markdown",
   "id": "08ef34a5",
   "metadata": {},
   "source": [
    "#### Adam optimizer 테스트"
   ]
  },
  {
   "cell_type": "code",
   "execution_count": 16,
   "id": "1cf5d27d",
   "metadata": {},
   "outputs": [],
   "source": [
    "import torch\n",
    "import torch.nn as nn"
   ]
  },
  {
   "cell_type": "code",
   "execution_count": 17,
   "id": "57f8c026",
   "metadata": {},
   "outputs": [],
   "source": [
    "x = torch.ones(5000, 10)\n",
    "y = torch.zeros(5000, 1)\n",
    "learning_rate = 0.01\n",
    "nb_epochs = 1000\n",
    "minibatch_size = 256 # mini-batch 사이즈는 256으로 정하고, 1 epoch에 5000개의 데이터를 20개의 mini-batch로 나누어 iterator"
   ]
  },
  {
   "cell_type": "code",
   "execution_count": 18,
   "id": "afe838c5",
   "metadata": {},
   "outputs": [],
   "source": [
    "input_dim = x.size(-1)\n",
    "output_dim = y.size(-1)\n",
    "\n",
    "model = nn.Sequential(\n",
    "    nn.Linear(input_dim, 10),\n",
    "    nn.LeakyReLU(0.1),\n",
    "    nn.Linear(10, 8),\n",
    "    nn.LeakyReLU(0.1),\n",
    "    nn.Linear(8, 6),\n",
    "    nn.LeakyReLU(0.1),\n",
    "    nn.Linear(6, output_dim)\n",
    ")\n",
    "\n",
    "loss_function = nn.MSELoss()\n",
    "\n",
    "optimizer = torch.optim.SGD(model.parameters(), lr=learning_rate) # SGD, learning_rate 필요\n",
    "optimizer = torch.optim.Adagrad(model.parameters()) # Adagrad, learning_rate 필요없음\n",
    "optimizer = torch.optim.RMSprop(model.parameters()) # RMSprop, learning_rate 필요없음\n",
    "optimizer = torch.optim.SGD(model.parameters(), lr=learning_rate, momentum=0.9, nesterov=True) # NAG, learning_rate, momentum 필요\n",
    "optimizer = torch.optim.Adam(model.parameters()) # Adam, learning_rate 필요없음"
   ]
  },
  {
   "cell_type": "code",
   "execution_count": 19,
   "id": "05e8d2f0",
   "metadata": {},
   "outputs": [
    {
     "name": "stdout",
     "output_type": "stream",
     "text": [
      "tensor([4012,  907, 2170,  ..., 2847, 1171, 4207])\n",
      "20 20\n"
     ]
    }
   ],
   "source": [
    "indices = torch.randperm(x.size(0))\n",
    "print(indices)\n",
    "x_batch_list = torch.index_select(x, dim=0, index=indices)\n",
    "y_batch_list = torch.index_select(y, dim=0, index=indices)\n",
    "x_batch_list = x_batch_list.split(minibatch_size, dim=0)\n",
    "y_batch_list = y_batch_list.split(minibatch_size, dim=0)\n",
    "print(len(x_batch_list), len(y_batch_list))"
   ]
  },
  {
   "cell_type": "code",
   "execution_count": 20,
   "id": "143ee1ed",
   "metadata": {},
   "outputs": [
    {
     "name": "stdout",
     "output_type": "stream",
     "text": [
      "tensor(0.2033, grad_fn=<MseLossBackward0>)\n",
      "Parameter containing:\n",
      "tensor([[ 0.0032, -0.1023,  0.2294, -0.1377,  0.0203,  0.2560, -0.2365,  0.1636,\n",
      "         -0.0858,  0.2401],\n",
      "        [ 0.2613,  0.0712,  0.1705,  0.2845, -0.0266, -0.0457, -0.1242,  0.2026,\n",
      "          0.0270,  0.1859],\n",
      "        [-0.2360, -0.0721, -0.1258,  0.2637,  0.1925, -0.1162,  0.2596, -0.2757,\n",
      "         -0.0076, -0.0378],\n",
      "        [-0.0598,  0.0194,  0.2239, -0.2325,  0.0634, -0.0805, -0.2968, -0.2753,\n",
      "         -0.2887, -0.1812],\n",
      "        [ 0.1741, -0.0201, -0.2341,  0.1590, -0.0018, -0.1511, -0.2715,  0.0934,\n",
      "          0.2656,  0.1365],\n",
      "        [ 0.1964, -0.1674, -0.3096,  0.2924, -0.2265,  0.0646,  0.1326,  0.1637,\n",
      "          0.0958,  0.1551],\n",
      "        [-0.1293, -0.2692,  0.1171,  0.2953,  0.0292,  0.0430,  0.2571, -0.0237,\n",
      "         -0.1012,  0.0567],\n",
      "        [-0.2566,  0.0432,  0.0325,  0.1358, -0.2597, -0.1957,  0.1251, -0.1520,\n",
      "         -0.1385,  0.0671],\n",
      "        [ 0.0116,  0.3075,  0.2009,  0.1219,  0.3009,  0.1862,  0.0222, -0.2090,\n",
      "          0.1744, -0.1991],\n",
      "        [ 0.2668,  0.1195, -0.0191, -0.1562, -0.1220, -0.2097,  0.0224,  0.0200,\n",
      "         -0.0396, -0.2498]], requires_grad=True)\n",
      "Parameter containing:\n",
      "tensor([ 0.0216, -0.1254,  0.1022, -0.3007, -0.0648,  0.0164, -0.0107,  0.0860,\n",
      "         0.1726,  0.0570], requires_grad=True)\n",
      "Parameter containing:\n",
      "tensor([[ 0.2635,  0.2515,  0.0427,  0.3104,  0.0293,  0.1112,  0.1463,  0.1676,\n",
      "         -0.2265,  0.1834],\n",
      "        [-0.1741,  0.3139,  0.2770, -0.0517, -0.0805,  0.1406,  0.2331, -0.2245,\n",
      "         -0.0900, -0.0075],\n",
      "        [ 0.0217,  0.2821, -0.2201, -0.2068, -0.2748, -0.2801, -0.1764,  0.2355,\n",
      "          0.1241,  0.0927],\n",
      "        [ 0.2054, -0.2930,  0.2459,  0.2259,  0.1699, -0.1493, -0.0075,  0.2963,\n",
      "          0.2826,  0.2867],\n",
      "        [ 0.1126,  0.0629, -0.0047,  0.1562, -0.0298, -0.0990,  0.2412, -0.2468,\n",
      "         -0.0434, -0.0957],\n",
      "        [-0.0785,  0.2708,  0.0414, -0.0970, -0.2743, -0.1530,  0.2231,  0.2473,\n",
      "         -0.3017,  0.2816],\n",
      "        [ 0.1361, -0.2580,  0.1547, -0.1062,  0.1901, -0.2559,  0.0894,  0.1222,\n",
      "          0.1980, -0.0121],\n",
      "        [ 0.2889, -0.1963,  0.1570,  0.2275,  0.0081, -0.1290,  0.1990, -0.3053,\n",
      "          0.0529, -0.1102]], requires_grad=True)\n",
      "Parameter containing:\n",
      "tensor([ 0.0103,  0.0296, -0.0614, -0.0978,  0.1265, -0.3005,  0.1306,  0.1661],\n",
      "       requires_grad=True)\n",
      "Parameter containing:\n",
      "tensor([[-0.1480, -0.0102,  0.0605, -0.3220,  0.2523, -0.1684, -0.0529, -0.2122],\n",
      "        [ 0.2608,  0.1502, -0.3467,  0.0968, -0.0549, -0.1129,  0.1026, -0.2468],\n",
      "        [-0.1802, -0.2489,  0.2795,  0.0461,  0.3273,  0.2532,  0.0117, -0.0493],\n",
      "        [-0.1825,  0.2809,  0.2721,  0.1286, -0.0879, -0.0785,  0.0108,  0.2875],\n",
      "        [-0.2639,  0.2737, -0.0870, -0.1778, -0.1718, -0.0125, -0.0600,  0.1607],\n",
      "        [-0.0919,  0.1385,  0.3029,  0.2774,  0.1383, -0.2796,  0.3235, -0.0657]],\n",
      "       requires_grad=True)\n",
      "Parameter containing:\n",
      "tensor([-0.1222, -0.0105,  0.0963, -0.2008,  0.1457,  0.2183],\n",
      "       requires_grad=True)\n",
      "Parameter containing:\n",
      "tensor([[-0.0077, -0.1189, -0.2878,  0.2482, -0.1166, -0.2603]],\n",
      "       requires_grad=True)\n",
      "Parameter containing:\n",
      "tensor([-0.3092], requires_grad=True)\n"
     ]
    }
   ],
   "source": [
    "for index in range(nb_epochs):\n",
    "    indices = torch.randperm(x.size(0))\n",
    "    \n",
    "    x_batch_list = torch.index_select(x, dim=0, index=indices)\n",
    "    y_batch_list = torch.index_select(y, dim=0, index=indices)\n",
    "    x_batch_list = x_batch_list.split(minibatch_size, dim=0)\n",
    "    y_batch_list = y_batch_list.split(minibatch_size, dim=0)\n",
    "    \n",
    "    \n",
    "    for x_minibatch, y_minibatch in zip(x_batch_list, y_batch_list):\n",
    "        y_minibatch_pred = model(x_minibatch)\n",
    "        loss = loss_function(y_minibatch_pred, y_minibatch)\n",
    "        \n",
    "        optimizer.zero_grad()\n",
    "        loss.backward\n",
    "        optimizer.step()\n",
    "        \n",
    "print(loss)\n",
    "for param in model.parameters():\n",
    "    print(param)\n",
    "    \n",
    "    "
   ]
  }
 ],
 "metadata": {
  "kernelspec": {
   "display_name": ".venv",
   "language": "python",
   "name": "python3"
  },
  "language_info": {
   "codemirror_mode": {
    "name": "ipython",
    "version": 3
   },
   "file_extension": ".py",
   "mimetype": "text/x-python",
   "name": "python",
   "nbconvert_exporter": "python",
   "pygments_lexer": "ipython3",
   "version": "3.12.9"
  }
 },
 "nbformat": 4,
 "nbformat_minor": 5
}
