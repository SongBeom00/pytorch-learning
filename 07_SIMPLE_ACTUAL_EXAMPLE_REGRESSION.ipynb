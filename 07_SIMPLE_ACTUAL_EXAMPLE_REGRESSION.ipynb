{
 "cells": [
  {
   "cell_type": "code",
   "execution_count": 44,
   "id": "de497a0a",
   "metadata": {},
   "outputs": [],
   "source": [
    "import torch\n",
    "import torch.nn as nn\n",
    "import numpy as np\n",
    "import pandas as pd\n",
    "from sklearn.preprocessing import StandardScaler"
   ]
  },
  {
   "cell_type": "code",
   "execution_count": 45,
   "id": "db857233",
   "metadata": {},
   "outputs": [
    {
     "name": "stdout",
     "output_type": "stream",
     "text": [
      "(1460, 81) (1459, 80)\n"
     ]
    }
   ],
   "source": [
    "df_train = pd.read_csv('./house-prices-advanced-regression-techniques/train.csv')\n",
    "df_test = pd.read_csv('./house-prices-advanced-regression-techniques/test.csv')\n",
    "\n",
    "print(df_train.shape, df_test.shape)"
   ]
  },
  {
   "cell_type": "code",
   "execution_count": 46,
   "id": "901d0ee0",
   "metadata": {},
   "outputs": [
    {
     "data": {
      "text/html": [
       "<div>\n",
       "<style scoped>\n",
       "    .dataframe tbody tr th:only-of-type {\n",
       "        vertical-align: middle;\n",
       "    }\n",
       "\n",
       "    .dataframe tbody tr th {\n",
       "        vertical-align: top;\n",
       "    }\n",
       "\n",
       "    .dataframe thead th {\n",
       "        text-align: right;\n",
       "    }\n",
       "</style>\n",
       "<table border=\"1\" class=\"dataframe\">\n",
       "  <thead>\n",
       "    <tr style=\"text-align: right;\">\n",
       "      <th></th>\n",
       "      <th>Id</th>\n",
       "      <th>MSSubClass</th>\n",
       "      <th>MSZoning</th>\n",
       "      <th>LotFrontage</th>\n",
       "      <th>LotArea</th>\n",
       "      <th>Street</th>\n",
       "      <th>Alley</th>\n",
       "      <th>LotShape</th>\n",
       "      <th>LandContour</th>\n",
       "      <th>Utilities</th>\n",
       "      <th>...</th>\n",
       "      <th>PoolArea</th>\n",
       "      <th>PoolQC</th>\n",
       "      <th>Fence</th>\n",
       "      <th>MiscFeature</th>\n",
       "      <th>MiscVal</th>\n",
       "      <th>MoSold</th>\n",
       "      <th>YrSold</th>\n",
       "      <th>SaleType</th>\n",
       "      <th>SaleCondition</th>\n",
       "      <th>SalePrice</th>\n",
       "    </tr>\n",
       "  </thead>\n",
       "  <tbody>\n",
       "    <tr>\n",
       "      <th>0</th>\n",
       "      <td>1</td>\n",
       "      <td>60</td>\n",
       "      <td>RL</td>\n",
       "      <td>65.0</td>\n",
       "      <td>8450</td>\n",
       "      <td>Pave</td>\n",
       "      <td>NaN</td>\n",
       "      <td>Reg</td>\n",
       "      <td>Lvl</td>\n",
       "      <td>AllPub</td>\n",
       "      <td>...</td>\n",
       "      <td>0</td>\n",
       "      <td>NaN</td>\n",
       "      <td>NaN</td>\n",
       "      <td>NaN</td>\n",
       "      <td>0</td>\n",
       "      <td>2</td>\n",
       "      <td>2008</td>\n",
       "      <td>WD</td>\n",
       "      <td>Normal</td>\n",
       "      <td>208500</td>\n",
       "    </tr>\n",
       "    <tr>\n",
       "      <th>1</th>\n",
       "      <td>2</td>\n",
       "      <td>20</td>\n",
       "      <td>RL</td>\n",
       "      <td>80.0</td>\n",
       "      <td>9600</td>\n",
       "      <td>Pave</td>\n",
       "      <td>NaN</td>\n",
       "      <td>Reg</td>\n",
       "      <td>Lvl</td>\n",
       "      <td>AllPub</td>\n",
       "      <td>...</td>\n",
       "      <td>0</td>\n",
       "      <td>NaN</td>\n",
       "      <td>NaN</td>\n",
       "      <td>NaN</td>\n",
       "      <td>0</td>\n",
       "      <td>5</td>\n",
       "      <td>2007</td>\n",
       "      <td>WD</td>\n",
       "      <td>Normal</td>\n",
       "      <td>181500</td>\n",
       "    </tr>\n",
       "    <tr>\n",
       "      <th>2</th>\n",
       "      <td>3</td>\n",
       "      <td>60</td>\n",
       "      <td>RL</td>\n",
       "      <td>68.0</td>\n",
       "      <td>11250</td>\n",
       "      <td>Pave</td>\n",
       "      <td>NaN</td>\n",
       "      <td>IR1</td>\n",
       "      <td>Lvl</td>\n",
       "      <td>AllPub</td>\n",
       "      <td>...</td>\n",
       "      <td>0</td>\n",
       "      <td>NaN</td>\n",
       "      <td>NaN</td>\n",
       "      <td>NaN</td>\n",
       "      <td>0</td>\n",
       "      <td>9</td>\n",
       "      <td>2008</td>\n",
       "      <td>WD</td>\n",
       "      <td>Normal</td>\n",
       "      <td>223500</td>\n",
       "    </tr>\n",
       "  </tbody>\n",
       "</table>\n",
       "<p>3 rows × 81 columns</p>\n",
       "</div>"
      ],
      "text/plain": [
       "   Id  MSSubClass MSZoning  LotFrontage  LotArea Street Alley LotShape  \\\n",
       "0   1          60       RL         65.0     8450   Pave   NaN      Reg   \n",
       "1   2          20       RL         80.0     9600   Pave   NaN      Reg   \n",
       "2   3          60       RL         68.0    11250   Pave   NaN      IR1   \n",
       "\n",
       "  LandContour Utilities  ... PoolArea PoolQC Fence MiscFeature MiscVal MoSold  \\\n",
       "0         Lvl    AllPub  ...        0    NaN   NaN         NaN       0      2   \n",
       "1         Lvl    AllPub  ...        0    NaN   NaN         NaN       0      5   \n",
       "2         Lvl    AllPub  ...        0    NaN   NaN         NaN       0      9   \n",
       "\n",
       "  YrSold  SaleType  SaleCondition  SalePrice  \n",
       "0   2008        WD         Normal     208500  \n",
       "1   2007        WD         Normal     181500  \n",
       "2   2008        WD         Normal     223500  \n",
       "\n",
       "[3 rows x 81 columns]"
      ]
     },
     "execution_count": 46,
     "metadata": {},
     "output_type": "execute_result"
    }
   ],
   "source": [
    "df_train.head(3)"
   ]
  },
  {
   "cell_type": "code",
   "execution_count": 47,
   "id": "37fc040e",
   "metadata": {},
   "outputs": [
    {
     "data": {
      "text/html": [
       "<div>\n",
       "<style scoped>\n",
       "    .dataframe tbody tr th:only-of-type {\n",
       "        vertical-align: middle;\n",
       "    }\n",
       "\n",
       "    .dataframe tbody tr th {\n",
       "        vertical-align: top;\n",
       "    }\n",
       "\n",
       "    .dataframe thead th {\n",
       "        text-align: right;\n",
       "    }\n",
       "</style>\n",
       "<table border=\"1\" class=\"dataframe\">\n",
       "  <thead>\n",
       "    <tr style=\"text-align: right;\">\n",
       "      <th></th>\n",
       "      <th>Id</th>\n",
       "      <th>MSSubClass</th>\n",
       "      <th>MSZoning</th>\n",
       "      <th>LotFrontage</th>\n",
       "      <th>LotArea</th>\n",
       "      <th>Street</th>\n",
       "      <th>Alley</th>\n",
       "      <th>LotShape</th>\n",
       "      <th>LandContour</th>\n",
       "      <th>Utilities</th>\n",
       "      <th>...</th>\n",
       "      <th>ScreenPorch</th>\n",
       "      <th>PoolArea</th>\n",
       "      <th>PoolQC</th>\n",
       "      <th>Fence</th>\n",
       "      <th>MiscFeature</th>\n",
       "      <th>MiscVal</th>\n",
       "      <th>MoSold</th>\n",
       "      <th>YrSold</th>\n",
       "      <th>SaleType</th>\n",
       "      <th>SaleCondition</th>\n",
       "    </tr>\n",
       "  </thead>\n",
       "  <tbody>\n",
       "    <tr>\n",
       "      <th>0</th>\n",
       "      <td>1461</td>\n",
       "      <td>20</td>\n",
       "      <td>RH</td>\n",
       "      <td>80.0</td>\n",
       "      <td>11622</td>\n",
       "      <td>Pave</td>\n",
       "      <td>NaN</td>\n",
       "      <td>Reg</td>\n",
       "      <td>Lvl</td>\n",
       "      <td>AllPub</td>\n",
       "      <td>...</td>\n",
       "      <td>120</td>\n",
       "      <td>0</td>\n",
       "      <td>NaN</td>\n",
       "      <td>MnPrv</td>\n",
       "      <td>NaN</td>\n",
       "      <td>0</td>\n",
       "      <td>6</td>\n",
       "      <td>2010</td>\n",
       "      <td>WD</td>\n",
       "      <td>Normal</td>\n",
       "    </tr>\n",
       "    <tr>\n",
       "      <th>1</th>\n",
       "      <td>1462</td>\n",
       "      <td>20</td>\n",
       "      <td>RL</td>\n",
       "      <td>81.0</td>\n",
       "      <td>14267</td>\n",
       "      <td>Pave</td>\n",
       "      <td>NaN</td>\n",
       "      <td>IR1</td>\n",
       "      <td>Lvl</td>\n",
       "      <td>AllPub</td>\n",
       "      <td>...</td>\n",
       "      <td>0</td>\n",
       "      <td>0</td>\n",
       "      <td>NaN</td>\n",
       "      <td>NaN</td>\n",
       "      <td>Gar2</td>\n",
       "      <td>12500</td>\n",
       "      <td>6</td>\n",
       "      <td>2010</td>\n",
       "      <td>WD</td>\n",
       "      <td>Normal</td>\n",
       "    </tr>\n",
       "    <tr>\n",
       "      <th>2</th>\n",
       "      <td>1463</td>\n",
       "      <td>60</td>\n",
       "      <td>RL</td>\n",
       "      <td>74.0</td>\n",
       "      <td>13830</td>\n",
       "      <td>Pave</td>\n",
       "      <td>NaN</td>\n",
       "      <td>IR1</td>\n",
       "      <td>Lvl</td>\n",
       "      <td>AllPub</td>\n",
       "      <td>...</td>\n",
       "      <td>0</td>\n",
       "      <td>0</td>\n",
       "      <td>NaN</td>\n",
       "      <td>MnPrv</td>\n",
       "      <td>NaN</td>\n",
       "      <td>0</td>\n",
       "      <td>3</td>\n",
       "      <td>2010</td>\n",
       "      <td>WD</td>\n",
       "      <td>Normal</td>\n",
       "    </tr>\n",
       "  </tbody>\n",
       "</table>\n",
       "<p>3 rows × 80 columns</p>\n",
       "</div>"
      ],
      "text/plain": [
       "     Id  MSSubClass MSZoning  LotFrontage  LotArea Street Alley LotShape  \\\n",
       "0  1461          20       RH         80.0    11622   Pave   NaN      Reg   \n",
       "1  1462          20       RL         81.0    14267   Pave   NaN      IR1   \n",
       "2  1463          60       RL         74.0    13830   Pave   NaN      IR1   \n",
       "\n",
       "  LandContour Utilities  ... ScreenPorch PoolArea PoolQC  Fence MiscFeature  \\\n",
       "0         Lvl    AllPub  ...         120        0    NaN  MnPrv         NaN   \n",
       "1         Lvl    AllPub  ...           0        0    NaN    NaN        Gar2   \n",
       "2         Lvl    AllPub  ...           0        0    NaN  MnPrv         NaN   \n",
       "\n",
       "  MiscVal MoSold  YrSold  SaleType  SaleCondition  \n",
       "0       0      6    2010        WD         Normal  \n",
       "1   12500      6    2010        WD         Normal  \n",
       "2       0      3    2010        WD         Normal  \n",
       "\n",
       "[3 rows x 80 columns]"
      ]
     },
     "execution_count": 47,
     "metadata": {},
     "output_type": "execute_result"
    }
   ],
   "source": [
    "df_test.head(3) # 예측해야 하는 값이므로 SalePrice가 없다."
   ]
  },
  {
   "cell_type": "code",
   "execution_count": 48,
   "id": "c7105f5f",
   "metadata": {},
   "outputs": [
    {
     "name": "stdout",
     "output_type": "stream",
     "text": [
      "<class 'pandas.core.frame.DataFrame'>\n",
      "RangeIndex: 1460 entries, 0 to 1459\n",
      "Data columns (total 81 columns):\n",
      " #   Column         Non-Null Count  Dtype  \n",
      "---  ------         --------------  -----  \n",
      " 0   Id             1460 non-null   int64  \n",
      " 1   MSSubClass     1460 non-null   int64  \n",
      " 2   MSZoning       1460 non-null   object \n",
      " 3   LotFrontage    1201 non-null   float64\n",
      " 4   LotArea        1460 non-null   int64  \n",
      " 5   Street         1460 non-null   object \n",
      " 6   Alley          91 non-null     object \n",
      " 7   LotShape       1460 non-null   object \n",
      " 8   LandContour    1460 non-null   object \n",
      " 9   Utilities      1460 non-null   object \n",
      " 10  LotConfig      1460 non-null   object \n",
      " 11  LandSlope      1460 non-null   object \n",
      " 12  Neighborhood   1460 non-null   object \n",
      " 13  Condition1     1460 non-null   object \n",
      " 14  Condition2     1460 non-null   object \n",
      " 15  BldgType       1460 non-null   object \n",
      " 16  HouseStyle     1460 non-null   object \n",
      " 17  OverallQual    1460 non-null   int64  \n",
      " 18  OverallCond    1460 non-null   int64  \n",
      " 19  YearBuilt      1460 non-null   int64  \n",
      " 20  YearRemodAdd   1460 non-null   int64  \n",
      " 21  RoofStyle      1460 non-null   object \n",
      " 22  RoofMatl       1460 non-null   object \n",
      " 23  Exterior1st    1460 non-null   object \n",
      " 24  Exterior2nd    1460 non-null   object \n",
      " 25  MasVnrType     588 non-null    object \n",
      " 26  MasVnrArea     1452 non-null   float64\n",
      " 27  ExterQual      1460 non-null   object \n",
      " 28  ExterCond      1460 non-null   object \n",
      " 29  Foundation     1460 non-null   object \n",
      " 30  BsmtQual       1423 non-null   object \n",
      " 31  BsmtCond       1423 non-null   object \n",
      " 32  BsmtExposure   1422 non-null   object \n",
      " 33  BsmtFinType1   1423 non-null   object \n",
      " 34  BsmtFinSF1     1460 non-null   int64  \n",
      " 35  BsmtFinType2   1422 non-null   object \n",
      " 36  BsmtFinSF2     1460 non-null   int64  \n",
      " 37  BsmtUnfSF      1460 non-null   int64  \n",
      " 38  TotalBsmtSF    1460 non-null   int64  \n",
      " 39  Heating        1460 non-null   object \n",
      " 40  HeatingQC      1460 non-null   object \n",
      " 41  CentralAir     1460 non-null   object \n",
      " 42  Electrical     1459 non-null   object \n",
      " 43  1stFlrSF       1460 non-null   int64  \n",
      " 44  2ndFlrSF       1460 non-null   int64  \n",
      " 45  LowQualFinSF   1460 non-null   int64  \n",
      " 46  GrLivArea      1460 non-null   int64  \n",
      " 47  BsmtFullBath   1460 non-null   int64  \n",
      " 48  BsmtHalfBath   1460 non-null   int64  \n",
      " 49  FullBath       1460 non-null   int64  \n",
      " 50  HalfBath       1460 non-null   int64  \n",
      " 51  BedroomAbvGr   1460 non-null   int64  \n",
      " 52  KitchenAbvGr   1460 non-null   int64  \n",
      " 53  KitchenQual    1460 non-null   object \n",
      " 54  TotRmsAbvGrd   1460 non-null   int64  \n",
      " 55  Functional     1460 non-null   object \n",
      " 56  Fireplaces     1460 non-null   int64  \n",
      " 57  FireplaceQu    770 non-null    object \n",
      " 58  GarageType     1379 non-null   object \n",
      " 59  GarageYrBlt    1379 non-null   float64\n",
      " 60  GarageFinish   1379 non-null   object \n",
      " 61  GarageCars     1460 non-null   int64  \n",
      " 62  GarageArea     1460 non-null   int64  \n",
      " 63  GarageQual     1379 non-null   object \n",
      " 64  GarageCond     1379 non-null   object \n",
      " 65  PavedDrive     1460 non-null   object \n",
      " 66  WoodDeckSF     1460 non-null   int64  \n",
      " 67  OpenPorchSF    1460 non-null   int64  \n",
      " 68  EnclosedPorch  1460 non-null   int64  \n",
      " 69  3SsnPorch      1460 non-null   int64  \n",
      " 70  ScreenPorch    1460 non-null   int64  \n",
      " 71  PoolArea       1460 non-null   int64  \n",
      " 72  PoolQC         7 non-null      object \n",
      " 73  Fence          281 non-null    object \n",
      " 74  MiscFeature    54 non-null     object \n",
      " 75  MiscVal        1460 non-null   int64  \n",
      " 76  MoSold         1460 non-null   int64  \n",
      " 77  YrSold         1460 non-null   int64  \n",
      " 78  SaleType       1460 non-null   object \n",
      " 79  SaleCondition  1460 non-null   object \n",
      " 80  SalePrice      1460 non-null   int64  \n",
      "dtypes: float64(3), int64(35), object(43)\n",
      "memory usage: 924.0+ KB\n"
     ]
    }
   ],
   "source": [
    "df_train.info()"
   ]
  },
  {
   "cell_type": "code",
   "execution_count": 49,
   "id": "15e8bad8",
   "metadata": {},
   "outputs": [
    {
     "data": {
      "text/plain": [
       "Id              -0.021917\n",
       "MSSubClass      -0.084284\n",
       "LotFrontage      0.351799\n",
       "LotArea          0.263843\n",
       "OverallQual      0.790982\n",
       "OverallCond     -0.077856\n",
       "YearBuilt        0.522897\n",
       "YearRemodAdd     0.507101\n",
       "MasVnrArea       0.477493\n",
       "BsmtFinSF1       0.386420\n",
       "BsmtFinSF2      -0.011378\n",
       "BsmtUnfSF        0.214479\n",
       "TotalBsmtSF      0.613581\n",
       "1stFlrSF         0.605852\n",
       "2ndFlrSF         0.319334\n",
       "LowQualFinSF    -0.025606\n",
       "GrLivArea        0.708624\n",
       "BsmtFullBath     0.227122\n",
       "BsmtHalfBath    -0.016844\n",
       "FullBath         0.560664\n",
       "HalfBath         0.284108\n",
       "BedroomAbvGr     0.168213\n",
       "KitchenAbvGr    -0.135907\n",
       "TotRmsAbvGrd     0.533723\n",
       "Fireplaces       0.466929\n",
       "GarageYrBlt      0.486362\n",
       "GarageCars       0.640409\n",
       "GarageArea       0.623431\n",
       "WoodDeckSF       0.324413\n",
       "OpenPorchSF      0.315856\n",
       "EnclosedPorch   -0.128578\n",
       "3SsnPorch        0.044584\n",
       "ScreenPorch      0.111447\n",
       "PoolArea         0.092404\n",
       "MiscVal         -0.021190\n",
       "MoSold           0.046432\n",
       "YrSold          -0.028923\n",
       "SalePrice        1.000000\n",
       "Name: SalePrice, dtype: float64"
      ]
     },
     "execution_count": 49,
     "metadata": {},
     "output_type": "execute_result"
    }
   ],
   "source": [
    "df_train.corr(numeric_only=True)['SalePrice']"
   ]
  },
  {
   "cell_type": "code",
   "execution_count": 50,
   "id": "41e037e1",
   "metadata": {},
   "outputs": [
    {
     "data": {
      "text/plain": [
       "OverallQual     0.790982\n",
       "YearBuilt       0.522897\n",
       "YearRemodAdd    0.507101\n",
       "TotalBsmtSF     0.613581\n",
       "1stFlrSF        0.605852\n",
       "GrLivArea       0.708624\n",
       "FullBath        0.560664\n",
       "TotRmsAbvGrd    0.533723\n",
       "GarageCars      0.640409\n",
       "GarageArea      0.623431\n",
       "SalePrice       1.000000\n",
       "Name: SalePrice, dtype: float64"
      ]
     },
     "execution_count": 50,
     "metadata": {},
     "output_type": "execute_result"
    }
   ],
   "source": [
    "df_train.corr(numeric_only=True)['SalePrice'][(df_train.corr(numeric_only=True)['SalePrice'] > 0.5) | (df_train.corr(numeric_only=True)['SalePrice'] < -0.5)]"
   ]
  },
  {
   "cell_type": "code",
   "execution_count": 51,
   "id": "8b6b5f40",
   "metadata": {},
   "outputs": [
    {
     "name": "stdout",
     "output_type": "stream",
     "text": [
      "Index(['OverallQual', 'YearBuilt', 'YearRemodAdd', 'TotalBsmtSF', '1stFlrSF',\n",
      "       'GrLivArea', 'FullBath', 'TotRmsAbvGrd', 'GarageCars', 'GarageArea',\n",
      "       'SalePrice'],\n",
      "      dtype='object')\n"
     ]
    }
   ],
   "source": [
    "feature_list = df_train.corr(numeric_only=True)['SalePrice'][(df_train.corr(numeric_only=True)['SalePrice'] > 0.5) | (df_train.corr(numeric_only=True)['SalePrice'] < -0.5)].index\n",
    "print(feature_list)"
   ]
  },
  {
   "cell_type": "code",
   "execution_count": 52,
   "id": "79e8b2d3",
   "metadata": {},
   "outputs": [
    {
     "data": {
      "text/plain": [
       "OverallQual     0\n",
       "YearBuilt       0\n",
       "YearRemodAdd    0\n",
       "TotalBsmtSF     0\n",
       "1stFlrSF        0\n",
       "GrLivArea       0\n",
       "FullBath        0\n",
       "TotRmsAbvGrd    0\n",
       "GarageCars      0\n",
       "GarageArea      0\n",
       "SalePrice       0\n",
       "dtype: int64"
      ]
     },
     "execution_count": 52,
     "metadata": {},
     "output_type": "execute_result"
    }
   ],
   "source": [
    "df_train[feature_list].isnull().sum() # 결측치 확인"
   ]
  },
  {
   "cell_type": "code",
   "execution_count": 53,
   "id": "989f8bbc",
   "metadata": {},
   "outputs": [
    {
     "data": {
      "text/plain": [
       "OverallQual     int64\n",
       "YearBuilt       int64\n",
       "YearRemodAdd    int64\n",
       "TotalBsmtSF     int64\n",
       "1stFlrSF        int64\n",
       "GrLivArea       int64\n",
       "FullBath        int64\n",
       "TotRmsAbvGrd    int64\n",
       "GarageCars      int64\n",
       "GarageArea      int64\n",
       "SalePrice       int64\n",
       "dtype: object"
      ]
     },
     "execution_count": 53,
     "metadata": {},
     "output_type": "execute_result"
    }
   ],
   "source": [
    "df_train[feature_list].dtypes"
   ]
  },
  {
   "cell_type": "code",
   "execution_count": 54,
   "id": "bbb43cf9",
   "metadata": {},
   "outputs": [
    {
     "data": {
      "text/plain": [
       "Index(['OverallQual', 'YearBuilt', 'YearRemodAdd', 'TotalBsmtSF', '1stFlrSF',\n",
       "       'GrLivArea', 'FullBath', 'TotRmsAbvGrd', 'GarageCars', 'GarageArea'],\n",
       "      dtype='object')"
      ]
     },
     "execution_count": 54,
     "metadata": {},
     "output_type": "execute_result"
    }
   ],
   "source": [
    "features = feature_list[:-1]\n",
    "features"
   ]
  },
  {
   "cell_type": "code",
   "execution_count": 55,
   "id": "271e93a9",
   "metadata": {},
   "outputs": [],
   "source": [
    "for feature in features:\n",
    "    df_test.fillna((df_test[features].mean()),inplace=True) # test 데이터셋 결측치가 있으면 평균값으로 대체"
   ]
  },
  {
   "cell_type": "code",
   "execution_count": 56,
   "id": "5319bd28",
   "metadata": {},
   "outputs": [],
   "source": [
    "X_train = df_train[features]\n",
    "y_train = df_train[['SalePrice']].values\n",
    "X_test = df_test[features]"
   ]
  },
  {
   "cell_type": "code",
   "execution_count": 57,
   "id": "c6a277d8",
   "metadata": {},
   "outputs": [
    {
     "data": {
      "text/plain": [
       "numpy.ndarray"
      ]
     },
     "execution_count": 57,
     "metadata": {},
     "output_type": "execute_result"
    }
   ],
   "source": [
    "type(y_train)"
   ]
  },
  {
   "cell_type": "code",
   "execution_count": 58,
   "id": "2aa64106",
   "metadata": {},
   "outputs": [],
   "source": [
    "std_scaler = StandardScaler()\n",
    "std_scaler.fit(X_train)\n",
    "\n",
    "X_train_tensor = torch.from_numpy(std_scaler.transform(X_train)).float()\n",
    "X_test_tensor = torch.from_numpy(std_scaler.transform(X_test)).float()\n",
    "y_train_tensor = torch.from_numpy(y_train).float()\n"
   ]
  },
  {
   "cell_type": "code",
   "execution_count": 59,
   "id": "4196369e",
   "metadata": {},
   "outputs": [
    {
     "name": "stdout",
     "output_type": "stream",
     "text": [
      "torch.Size([1460, 10]) torch.Size([1459, 10]) torch.Size([1460, 1])\n"
     ]
    }
   ],
   "source": [
    "print(X_train_tensor.shape, X_test_tensor.shape, y_train_tensor.shape)"
   ]
  },
  {
   "cell_type": "code",
   "execution_count": 60,
   "id": "4fe52fb5",
   "metadata": {},
   "outputs": [],
   "source": [
    "nb_epochs = 10000\n",
    "minibatch_size = 256"
   ]
  },
  {
   "cell_type": "code",
   "execution_count": 61,
   "id": "b4718db6",
   "metadata": {},
   "outputs": [],
   "source": [
    "class FunModel(nn.Module):\n",
    "    def __init__(self, input_dim, output_dim):\n",
    "        super().__init__()\n",
    "        self.linear_layers = nn.Sequential(\n",
    "            nn.Linear(input_dim, 20),\n",
    "            nn.LeakyReLU(0.1),\n",
    "            nn.Linear(20, 10),\n",
    "            nn.LeakyReLU(0.1),\n",
    "            nn.Linear(10, 8),\n",
    "            nn.LeakyReLU(0.1),\n",
    "            nn.Linear(8, 6),\n",
    "            nn.LeakyReLU(0.1),\n",
    "            nn.Linear(6, output_dim)\n",
    "        )\n",
    "    def forward(self, x):\n",
    "        y = self.linear_layers(x)\n",
    "        return y\n",
    "        \n",
    "    "
   ]
  },
  {
   "cell_type": "code",
   "execution_count": 62,
   "id": "7f225bc4",
   "metadata": {},
   "outputs": [
    {
     "name": "stdout",
     "output_type": "stream",
     "text": [
      "10 1\n"
     ]
    }
   ],
   "source": [
    "input_dim = X_train_tensor.size(-1)\n",
    "output_dim = y_train_tensor.size(-1)\n",
    "print(input_dim, output_dim)\n",
    "model = FunModel(input_dim, output_dim)\n",
    "loss_function = nn.MSELoss()\n",
    "optimizer = torch.optim.Adam(model.parameters()) # Adam 사용"
   ]
  },
  {
   "cell_type": "code",
   "execution_count": 63,
   "id": "c1b7899c",
   "metadata": {},
   "outputs": [
    {
     "name": "stdout",
     "output_type": "stream",
     "text": [
      "tensor([ 485,  478, 1392,  ..., 1379,  897,  471])\n"
     ]
    }
   ],
   "source": [
    "indies = torch.randperm(X_train_tensor.size(0))\n",
    "print(indies)\n",
    "x_batch_list = torch.index_select(X_train_tensor, dim=0, index=indies)\n",
    "y_batch_list = torch.index_select(y_train_tensor, dim=0, index=indies)\n",
    "x_batch_list = x_batch_list.split(minibatch_size, dim=0)\n",
    "y_batch_list = y_batch_list.split(minibatch_size, dim=0)"
   ]
  },
  {
   "cell_type": "code",
   "execution_count": 65,
   "id": "0c04d6f1",
   "metadata": {},
   "outputs": [
    {
     "name": "stdout",
     "output_type": "stream",
     "text": [
      "0 tensor(9.2838e+21, grad_fn=<AddBackward0>) tensor(1.5473e+21, grad_fn=<DivBackward0>)\n",
      "100 tensor(9.1392e+21, grad_fn=<AddBackward0>) tensor(1.5232e+21, grad_fn=<DivBackward0>)\n",
      "200 tensor(9.1485e+21, grad_fn=<AddBackward0>) tensor(1.5247e+21, grad_fn=<DivBackward0>)\n",
      "300 tensor(9.1234e+21, grad_fn=<AddBackward0>) tensor(1.5206e+21, grad_fn=<DivBackward0>)\n",
      "400 tensor(9.2228e+21, grad_fn=<AddBackward0>) tensor(1.5371e+21, grad_fn=<DivBackward0>)\n",
      "500 tensor(9.0476e+21, grad_fn=<AddBackward0>) tensor(1.5079e+21, grad_fn=<DivBackward0>)\n",
      "600 tensor(9.1585e+21, grad_fn=<AddBackward0>) tensor(1.5264e+21, grad_fn=<DivBackward0>)\n",
      "700 tensor(9.1501e+21, grad_fn=<AddBackward0>) tensor(1.5250e+21, grad_fn=<DivBackward0>)\n",
      "800 tensor(9.3066e+21, grad_fn=<AddBackward0>) tensor(1.5511e+21, grad_fn=<DivBackward0>)\n",
      "900 tensor(9.1106e+21, grad_fn=<AddBackward0>) tensor(1.5184e+21, grad_fn=<DivBackward0>)\n",
      "1000 tensor(9.2142e+21, grad_fn=<AddBackward0>) tensor(1.5357e+21, grad_fn=<DivBackward0>)\n",
      "1100 tensor(9.2704e+21, grad_fn=<AddBackward0>) tensor(1.5451e+21, grad_fn=<DivBackward0>)\n",
      "1200 tensor(9.1776e+21, grad_fn=<AddBackward0>) tensor(1.5296e+21, grad_fn=<DivBackward0>)\n",
      "1300 tensor(9.1326e+21, grad_fn=<AddBackward0>) tensor(1.5221e+21, grad_fn=<DivBackward0>)\n",
      "1400 tensor(9.1106e+21, grad_fn=<AddBackward0>) tensor(1.5184e+21, grad_fn=<DivBackward0>)\n",
      "1500 tensor(9.1484e+21, grad_fn=<AddBackward0>) tensor(1.5247e+21, grad_fn=<DivBackward0>)\n",
      "1600 tensor(9.3334e+21, grad_fn=<AddBackward0>) tensor(1.5556e+21, grad_fn=<DivBackward0>)\n",
      "1700 tensor(9.2590e+21, grad_fn=<AddBackward0>) tensor(1.5432e+21, grad_fn=<DivBackward0>)\n",
      "1800 tensor(9.1174e+21, grad_fn=<AddBackward0>) tensor(1.5196e+21, grad_fn=<DivBackward0>)\n",
      "1900 tensor(9.1055e+21, grad_fn=<AddBackward0>) tensor(1.5176e+21, grad_fn=<DivBackward0>)\n",
      "2000 tensor(9.1437e+21, grad_fn=<AddBackward0>) tensor(1.5239e+21, grad_fn=<DivBackward0>)\n",
      "2100 tensor(9.0629e+21, grad_fn=<AddBackward0>) tensor(1.5105e+21, grad_fn=<DivBackward0>)\n",
      "2200 tensor(9.1306e+21, grad_fn=<AddBackward0>) tensor(1.5218e+21, grad_fn=<DivBackward0>)\n",
      "2300 tensor(9.1516e+21, grad_fn=<AddBackward0>) tensor(1.5253e+21, grad_fn=<DivBackward0>)\n",
      "2400 tensor(9.2801e+21, grad_fn=<AddBackward0>) tensor(1.5467e+21, grad_fn=<DivBackward0>)\n",
      "2500 tensor(9.2376e+21, grad_fn=<AddBackward0>) tensor(1.5396e+21, grad_fn=<DivBackward0>)\n",
      "2600 tensor(9.1363e+21, grad_fn=<AddBackward0>) tensor(1.5227e+21, grad_fn=<DivBackward0>)\n",
      "2700 tensor(9.1626e+21, grad_fn=<AddBackward0>) tensor(1.5271e+21, grad_fn=<DivBackward0>)\n",
      "2800 tensor(9.0689e+21, grad_fn=<AddBackward0>) tensor(1.5115e+21, grad_fn=<DivBackward0>)\n",
      "2900 tensor(9.0770e+21, grad_fn=<AddBackward0>) tensor(1.5128e+21, grad_fn=<DivBackward0>)\n",
      "3000 tensor(9.1499e+21, grad_fn=<AddBackward0>) tensor(1.5250e+21, grad_fn=<DivBackward0>)\n",
      "3100 tensor(9.1163e+21, grad_fn=<AddBackward0>) tensor(1.5194e+21, grad_fn=<DivBackward0>)\n",
      "3200 tensor(9.1576e+21, grad_fn=<AddBackward0>) tensor(1.5263e+21, grad_fn=<DivBackward0>)\n",
      "3300 tensor(9.1759e+21, grad_fn=<AddBackward0>) tensor(1.5293e+21, grad_fn=<DivBackward0>)\n",
      "3400 tensor(9.3347e+21, grad_fn=<AddBackward0>) tensor(1.5558e+21, grad_fn=<DivBackward0>)\n",
      "3500 tensor(9.1079e+21, grad_fn=<AddBackward0>) tensor(1.5180e+21, grad_fn=<DivBackward0>)\n",
      "3600 tensor(9.1471e+21, grad_fn=<AddBackward0>) tensor(1.5245e+21, grad_fn=<DivBackward0>)\n",
      "3700 tensor(9.1059e+21, grad_fn=<AddBackward0>) tensor(1.5177e+21, grad_fn=<DivBackward0>)\n",
      "3800 tensor(9.2323e+21, grad_fn=<AddBackward0>) tensor(1.5387e+21, grad_fn=<DivBackward0>)\n",
      "3900 tensor(9.2347e+21, grad_fn=<AddBackward0>) tensor(1.5391e+21, grad_fn=<DivBackward0>)\n",
      "4000 tensor(9.0428e+21, grad_fn=<AddBackward0>) tensor(1.5071e+21, grad_fn=<DivBackward0>)\n",
      "4100 tensor(9.1722e+21, grad_fn=<AddBackward0>) tensor(1.5287e+21, grad_fn=<DivBackward0>)\n",
      "4200 tensor(9.1781e+21, grad_fn=<AddBackward0>) tensor(1.5297e+21, grad_fn=<DivBackward0>)\n",
      "4300 tensor(9.1006e+21, grad_fn=<AddBackward0>) tensor(1.5168e+21, grad_fn=<DivBackward0>)\n",
      "4400 tensor(9.1710e+21, grad_fn=<AddBackward0>) tensor(1.5285e+21, grad_fn=<DivBackward0>)\n",
      "4500 tensor(9.2340e+21, grad_fn=<AddBackward0>) tensor(1.5390e+21, grad_fn=<DivBackward0>)\n",
      "4600 tensor(9.1819e+21, grad_fn=<AddBackward0>) tensor(1.5303e+21, grad_fn=<DivBackward0>)\n",
      "4700 tensor(9.0953e+21, grad_fn=<AddBackward0>) tensor(1.5159e+21, grad_fn=<DivBackward0>)\n",
      "4800 tensor(9.3281e+21, grad_fn=<AddBackward0>) tensor(1.5547e+21, grad_fn=<DivBackward0>)\n",
      "4900 tensor(9.3910e+21, grad_fn=<AddBackward0>) tensor(1.5652e+21, grad_fn=<DivBackward0>)\n",
      "5000 tensor(9.3744e+21, grad_fn=<AddBackward0>) tensor(1.5624e+21, grad_fn=<DivBackward0>)\n",
      "5100 tensor(9.1834e+21, grad_fn=<AddBackward0>) tensor(1.5306e+21, grad_fn=<DivBackward0>)\n",
      "5200 tensor(9.1914e+21, grad_fn=<AddBackward0>) tensor(1.5319e+21, grad_fn=<DivBackward0>)\n",
      "5300 tensor(9.2499e+21, grad_fn=<AddBackward0>) tensor(1.5416e+21, grad_fn=<DivBackward0>)\n",
      "5400 tensor(9.0934e+21, grad_fn=<AddBackward0>) tensor(1.5156e+21, grad_fn=<DivBackward0>)\n",
      "5500 tensor(9.3349e+21, grad_fn=<AddBackward0>) tensor(1.5558e+21, grad_fn=<DivBackward0>)\n",
      "5600 tensor(9.1313e+21, grad_fn=<AddBackward0>) tensor(1.5219e+21, grad_fn=<DivBackward0>)\n",
      "5700 tensor(9.0988e+21, grad_fn=<AddBackward0>) tensor(1.5165e+21, grad_fn=<DivBackward0>)\n",
      "5800 tensor(9.1798e+21, grad_fn=<AddBackward0>) tensor(1.5300e+21, grad_fn=<DivBackward0>)\n",
      "5900 tensor(9.1229e+21, grad_fn=<AddBackward0>) tensor(1.5205e+21, grad_fn=<DivBackward0>)\n",
      "6000 tensor(9.1737e+21, grad_fn=<AddBackward0>) tensor(1.5290e+21, grad_fn=<DivBackward0>)\n",
      "6100 tensor(9.1448e+21, grad_fn=<AddBackward0>) tensor(1.5241e+21, grad_fn=<DivBackward0>)\n",
      "6200 tensor(9.1892e+21, grad_fn=<AddBackward0>) tensor(1.5315e+21, grad_fn=<DivBackward0>)\n",
      "6300 tensor(9.1895e+21, grad_fn=<AddBackward0>) tensor(1.5316e+21, grad_fn=<DivBackward0>)\n",
      "6400 tensor(9.1604e+21, grad_fn=<AddBackward0>) tensor(1.5267e+21, grad_fn=<DivBackward0>)\n",
      "6500 tensor(9.2309e+21, grad_fn=<AddBackward0>) tensor(1.5385e+21, grad_fn=<DivBackward0>)\n",
      "6600 tensor(9.1781e+21, grad_fn=<AddBackward0>) tensor(1.5297e+21, grad_fn=<DivBackward0>)\n",
      "6700 tensor(9.0680e+21, grad_fn=<AddBackward0>) tensor(1.5113e+21, grad_fn=<DivBackward0>)\n",
      "6800 tensor(9.2745e+21, grad_fn=<AddBackward0>) tensor(1.5457e+21, grad_fn=<DivBackward0>)\n",
      "6900 tensor(9.2589e+21, grad_fn=<AddBackward0>) tensor(1.5431e+21, grad_fn=<DivBackward0>)\n",
      "7000 tensor(9.2754e+21, grad_fn=<AddBackward0>) tensor(1.5459e+21, grad_fn=<DivBackward0>)\n",
      "7100 tensor(9.1876e+21, grad_fn=<AddBackward0>) tensor(1.5313e+21, grad_fn=<DivBackward0>)\n",
      "7200 tensor(9.1678e+21, grad_fn=<AddBackward0>) tensor(1.5280e+21, grad_fn=<DivBackward0>)\n",
      "7300 tensor(9.1759e+21, grad_fn=<AddBackward0>) tensor(1.5293e+21, grad_fn=<DivBackward0>)\n",
      "7400 tensor(9.2026e+21, grad_fn=<AddBackward0>) tensor(1.5338e+21, grad_fn=<DivBackward0>)\n",
      "7500 tensor(9.1440e+21, grad_fn=<AddBackward0>) tensor(1.5240e+21, grad_fn=<DivBackward0>)\n",
      "7600 tensor(9.2801e+21, grad_fn=<AddBackward0>) tensor(1.5467e+21, grad_fn=<DivBackward0>)\n",
      "7700 tensor(9.1172e+21, grad_fn=<AddBackward0>) tensor(1.5195e+21, grad_fn=<DivBackward0>)\n",
      "7800 tensor(9.1880e+21, grad_fn=<AddBackward0>) tensor(1.5313e+21, grad_fn=<DivBackward0>)\n",
      "7900 tensor(9.0996e+21, grad_fn=<AddBackward0>) tensor(1.5166e+21, grad_fn=<DivBackward0>)\n",
      "8000 tensor(9.3373e+21, grad_fn=<AddBackward0>) tensor(1.5562e+21, grad_fn=<DivBackward0>)\n",
      "8100 tensor(9.1848e+21, grad_fn=<AddBackward0>) tensor(1.5308e+21, grad_fn=<DivBackward0>)\n",
      "8200 tensor(9.3540e+21, grad_fn=<AddBackward0>) tensor(1.5590e+21, grad_fn=<DivBackward0>)\n",
      "8300 tensor(9.1470e+21, grad_fn=<AddBackward0>) tensor(1.5245e+21, grad_fn=<DivBackward0>)\n",
      "8400 tensor(9.1033e+21, grad_fn=<AddBackward0>) tensor(1.5172e+21, grad_fn=<DivBackward0>)\n",
      "8500 tensor(9.1418e+21, grad_fn=<AddBackward0>) tensor(1.5236e+21, grad_fn=<DivBackward0>)\n",
      "8600 tensor(9.2018e+21, grad_fn=<AddBackward0>) tensor(1.5336e+21, grad_fn=<DivBackward0>)\n",
      "8700 tensor(9.3627e+21, grad_fn=<AddBackward0>) tensor(1.5604e+21, grad_fn=<DivBackward0>)\n",
      "8800 tensor(9.1930e+21, grad_fn=<AddBackward0>) tensor(1.5322e+21, grad_fn=<DivBackward0>)\n",
      "8900 tensor(9.1600e+21, grad_fn=<AddBackward0>) tensor(1.5267e+21, grad_fn=<DivBackward0>)\n",
      "9000 tensor(9.2902e+21, grad_fn=<AddBackward0>) tensor(1.5484e+21, grad_fn=<DivBackward0>)\n",
      "9100 tensor(9.1764e+21, grad_fn=<AddBackward0>) tensor(1.5294e+21, grad_fn=<DivBackward0>)\n",
      "9200 tensor(9.1849e+21, grad_fn=<AddBackward0>) tensor(1.5308e+21, grad_fn=<DivBackward0>)\n",
      "9300 tensor(9.2402e+21, grad_fn=<AddBackward0>) tensor(1.5400e+21, grad_fn=<DivBackward0>)\n",
      "9400 tensor(9.0925e+21, grad_fn=<AddBackward0>) tensor(1.5154e+21, grad_fn=<DivBackward0>)\n",
      "9500 tensor(9.1772e+21, grad_fn=<AddBackward0>) tensor(1.5295e+21, grad_fn=<DivBackward0>)\n",
      "9600 tensor(9.2473e+21, grad_fn=<AddBackward0>) tensor(1.5412e+21, grad_fn=<DivBackward0>)\n",
      "9700 tensor(9.1571e+21, grad_fn=<AddBackward0>) tensor(1.5262e+21, grad_fn=<DivBackward0>)\n",
      "9800 tensor(9.2241e+21, grad_fn=<AddBackward0>) tensor(1.5374e+21, grad_fn=<DivBackward0>)\n",
      "9900 tensor(9.1735e+21, grad_fn=<AddBackward0>) tensor(1.5289e+21, grad_fn=<DivBackward0>)\n"
     ]
    }
   ],
   "source": [
    "for index in range(nb_epochs):\n",
    "    indies = torch.randperm(X_train_tensor.size(0))\n",
    "    \n",
    "    x_batch_list = torch.index_select(X_train_tensor, dim=0, index=indies)\n",
    "    y_batch_list = torch.index_select(y_train_tensor, dim=0, index=indies)\n",
    "    x_batch_list = x_batch_list.split(minibatch_size, dim=0)\n",
    "    y_batch_list = y_batch_list.split(minibatch_size, dim=0)\n",
    "    \n",
    "    epoch_loss = list()\n",
    "    for x_minibatch, y_minibatch in zip(x_batch_list, y_batch_list):\n",
    "        y_minibatch_pred = model(x_minibatch)\n",
    "        \n",
    "        loss = torch.square(loss_function(y_minibatch_pred, y_minibatch)) # RMSE\n",
    "        epoch_loss.append(loss)\n",
    "        \n",
    "        optimizer.zero_grad()\n",
    "        loss.backward\n",
    "        optimizer.step()\n",
    "    \n",
    "    if(index % 100) == 0:\n",
    "        print(index, sum(epoch_loss), sum(epoch_loss)/len(epoch_loss))"
   ]
  },
  {
   "cell_type": "code",
   "execution_count": null,
   "id": "836b91a0",
   "metadata": {},
   "outputs": [],
   "source": []
  },
  {
   "cell_type": "code",
   "execution_count": null,
   "id": "363a2aee",
   "metadata": {},
   "outputs": [],
   "source": []
  }
 ],
 "metadata": {
  "kernelspec": {
   "display_name": ".venv",
   "language": "python",
   "name": "python3"
  },
  "language_info": {
   "codemirror_mode": {
    "name": "ipython",
    "version": 3
   },
   "file_extension": ".py",
   "mimetype": "text/x-python",
   "name": "python",
   "nbconvert_exporter": "python",
   "pygments_lexer": "ipython3",
   "version": "3.12.9"
  }
 },
 "nbformat": 4,
 "nbformat_minor": 5
}
