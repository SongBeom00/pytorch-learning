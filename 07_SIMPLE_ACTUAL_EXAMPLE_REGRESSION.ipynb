{
 "cells": [
  {
   "cell_type": "code",
   "execution_count": 68,
   "id": "de497a0a",
   "metadata": {},
   "outputs": [],
   "source": [
    "import torch\n",
    "import torch.nn as nn\n",
    "import numpy as np\n",
    "import pandas as pd\n",
    "from sklearn.preprocessing import StandardScaler"
   ]
  },
  {
   "cell_type": "code",
   "execution_count": 69,
   "id": "db857233",
   "metadata": {},
   "outputs": [
    {
     "name": "stdout",
     "output_type": "stream",
     "text": [
      "(1460, 81) (1459, 80)\n"
     ]
    }
   ],
   "source": [
    "df_train = pd.read_csv('./house-prices-advanced-regression-techniques/train.csv')\n",
    "df_test = pd.read_csv('./house-prices-advanced-regression-techniques/test.csv')\n",
    "\n",
    "print(df_train.shape, df_test.shape)"
   ]
  },
  {
   "cell_type": "code",
   "execution_count": 70,
   "id": "901d0ee0",
   "metadata": {},
   "outputs": [
    {
     "data": {
      "text/html": [
       "<div>\n",
       "<style scoped>\n",
       "    .dataframe tbody tr th:only-of-type {\n",
       "        vertical-align: middle;\n",
       "    }\n",
       "\n",
       "    .dataframe tbody tr th {\n",
       "        vertical-align: top;\n",
       "    }\n",
       "\n",
       "    .dataframe thead th {\n",
       "        text-align: right;\n",
       "    }\n",
       "</style>\n",
       "<table border=\"1\" class=\"dataframe\">\n",
       "  <thead>\n",
       "    <tr style=\"text-align: right;\">\n",
       "      <th></th>\n",
       "      <th>Id</th>\n",
       "      <th>MSSubClass</th>\n",
       "      <th>MSZoning</th>\n",
       "      <th>LotFrontage</th>\n",
       "      <th>LotArea</th>\n",
       "      <th>Street</th>\n",
       "      <th>Alley</th>\n",
       "      <th>LotShape</th>\n",
       "      <th>LandContour</th>\n",
       "      <th>Utilities</th>\n",
       "      <th>...</th>\n",
       "      <th>PoolArea</th>\n",
       "      <th>PoolQC</th>\n",
       "      <th>Fence</th>\n",
       "      <th>MiscFeature</th>\n",
       "      <th>MiscVal</th>\n",
       "      <th>MoSold</th>\n",
       "      <th>YrSold</th>\n",
       "      <th>SaleType</th>\n",
       "      <th>SaleCondition</th>\n",
       "      <th>SalePrice</th>\n",
       "    </tr>\n",
       "  </thead>\n",
       "  <tbody>\n",
       "    <tr>\n",
       "      <th>0</th>\n",
       "      <td>1</td>\n",
       "      <td>60</td>\n",
       "      <td>RL</td>\n",
       "      <td>65.0</td>\n",
       "      <td>8450</td>\n",
       "      <td>Pave</td>\n",
       "      <td>NaN</td>\n",
       "      <td>Reg</td>\n",
       "      <td>Lvl</td>\n",
       "      <td>AllPub</td>\n",
       "      <td>...</td>\n",
       "      <td>0</td>\n",
       "      <td>NaN</td>\n",
       "      <td>NaN</td>\n",
       "      <td>NaN</td>\n",
       "      <td>0</td>\n",
       "      <td>2</td>\n",
       "      <td>2008</td>\n",
       "      <td>WD</td>\n",
       "      <td>Normal</td>\n",
       "      <td>208500</td>\n",
       "    </tr>\n",
       "    <tr>\n",
       "      <th>1</th>\n",
       "      <td>2</td>\n",
       "      <td>20</td>\n",
       "      <td>RL</td>\n",
       "      <td>80.0</td>\n",
       "      <td>9600</td>\n",
       "      <td>Pave</td>\n",
       "      <td>NaN</td>\n",
       "      <td>Reg</td>\n",
       "      <td>Lvl</td>\n",
       "      <td>AllPub</td>\n",
       "      <td>...</td>\n",
       "      <td>0</td>\n",
       "      <td>NaN</td>\n",
       "      <td>NaN</td>\n",
       "      <td>NaN</td>\n",
       "      <td>0</td>\n",
       "      <td>5</td>\n",
       "      <td>2007</td>\n",
       "      <td>WD</td>\n",
       "      <td>Normal</td>\n",
       "      <td>181500</td>\n",
       "    </tr>\n",
       "    <tr>\n",
       "      <th>2</th>\n",
       "      <td>3</td>\n",
       "      <td>60</td>\n",
       "      <td>RL</td>\n",
       "      <td>68.0</td>\n",
       "      <td>11250</td>\n",
       "      <td>Pave</td>\n",
       "      <td>NaN</td>\n",
       "      <td>IR1</td>\n",
       "      <td>Lvl</td>\n",
       "      <td>AllPub</td>\n",
       "      <td>...</td>\n",
       "      <td>0</td>\n",
       "      <td>NaN</td>\n",
       "      <td>NaN</td>\n",
       "      <td>NaN</td>\n",
       "      <td>0</td>\n",
       "      <td>9</td>\n",
       "      <td>2008</td>\n",
       "      <td>WD</td>\n",
       "      <td>Normal</td>\n",
       "      <td>223500</td>\n",
       "    </tr>\n",
       "  </tbody>\n",
       "</table>\n",
       "<p>3 rows × 81 columns</p>\n",
       "</div>"
      ],
      "text/plain": [
       "   Id  MSSubClass MSZoning  LotFrontage  LotArea Street Alley LotShape  \\\n",
       "0   1          60       RL         65.0     8450   Pave   NaN      Reg   \n",
       "1   2          20       RL         80.0     9600   Pave   NaN      Reg   \n",
       "2   3          60       RL         68.0    11250   Pave   NaN      IR1   \n",
       "\n",
       "  LandContour Utilities  ... PoolArea PoolQC Fence MiscFeature MiscVal MoSold  \\\n",
       "0         Lvl    AllPub  ...        0    NaN   NaN         NaN       0      2   \n",
       "1         Lvl    AllPub  ...        0    NaN   NaN         NaN       0      5   \n",
       "2         Lvl    AllPub  ...        0    NaN   NaN         NaN       0      9   \n",
       "\n",
       "  YrSold  SaleType  SaleCondition  SalePrice  \n",
       "0   2008        WD         Normal     208500  \n",
       "1   2007        WD         Normal     181500  \n",
       "2   2008        WD         Normal     223500  \n",
       "\n",
       "[3 rows x 81 columns]"
      ]
     },
     "execution_count": 70,
     "metadata": {},
     "output_type": "execute_result"
    }
   ],
   "source": [
    "df_train.head(3)"
   ]
  },
  {
   "cell_type": "code",
   "execution_count": 71,
   "id": "37fc040e",
   "metadata": {},
   "outputs": [
    {
     "data": {
      "text/html": [
       "<div>\n",
       "<style scoped>\n",
       "    .dataframe tbody tr th:only-of-type {\n",
       "        vertical-align: middle;\n",
       "    }\n",
       "\n",
       "    .dataframe tbody tr th {\n",
       "        vertical-align: top;\n",
       "    }\n",
       "\n",
       "    .dataframe thead th {\n",
       "        text-align: right;\n",
       "    }\n",
       "</style>\n",
       "<table border=\"1\" class=\"dataframe\">\n",
       "  <thead>\n",
       "    <tr style=\"text-align: right;\">\n",
       "      <th></th>\n",
       "      <th>Id</th>\n",
       "      <th>MSSubClass</th>\n",
       "      <th>MSZoning</th>\n",
       "      <th>LotFrontage</th>\n",
       "      <th>LotArea</th>\n",
       "      <th>Street</th>\n",
       "      <th>Alley</th>\n",
       "      <th>LotShape</th>\n",
       "      <th>LandContour</th>\n",
       "      <th>Utilities</th>\n",
       "      <th>...</th>\n",
       "      <th>ScreenPorch</th>\n",
       "      <th>PoolArea</th>\n",
       "      <th>PoolQC</th>\n",
       "      <th>Fence</th>\n",
       "      <th>MiscFeature</th>\n",
       "      <th>MiscVal</th>\n",
       "      <th>MoSold</th>\n",
       "      <th>YrSold</th>\n",
       "      <th>SaleType</th>\n",
       "      <th>SaleCondition</th>\n",
       "    </tr>\n",
       "  </thead>\n",
       "  <tbody>\n",
       "    <tr>\n",
       "      <th>0</th>\n",
       "      <td>1461</td>\n",
       "      <td>20</td>\n",
       "      <td>RH</td>\n",
       "      <td>80.0</td>\n",
       "      <td>11622</td>\n",
       "      <td>Pave</td>\n",
       "      <td>NaN</td>\n",
       "      <td>Reg</td>\n",
       "      <td>Lvl</td>\n",
       "      <td>AllPub</td>\n",
       "      <td>...</td>\n",
       "      <td>120</td>\n",
       "      <td>0</td>\n",
       "      <td>NaN</td>\n",
       "      <td>MnPrv</td>\n",
       "      <td>NaN</td>\n",
       "      <td>0</td>\n",
       "      <td>6</td>\n",
       "      <td>2010</td>\n",
       "      <td>WD</td>\n",
       "      <td>Normal</td>\n",
       "    </tr>\n",
       "    <tr>\n",
       "      <th>1</th>\n",
       "      <td>1462</td>\n",
       "      <td>20</td>\n",
       "      <td>RL</td>\n",
       "      <td>81.0</td>\n",
       "      <td>14267</td>\n",
       "      <td>Pave</td>\n",
       "      <td>NaN</td>\n",
       "      <td>IR1</td>\n",
       "      <td>Lvl</td>\n",
       "      <td>AllPub</td>\n",
       "      <td>...</td>\n",
       "      <td>0</td>\n",
       "      <td>0</td>\n",
       "      <td>NaN</td>\n",
       "      <td>NaN</td>\n",
       "      <td>Gar2</td>\n",
       "      <td>12500</td>\n",
       "      <td>6</td>\n",
       "      <td>2010</td>\n",
       "      <td>WD</td>\n",
       "      <td>Normal</td>\n",
       "    </tr>\n",
       "    <tr>\n",
       "      <th>2</th>\n",
       "      <td>1463</td>\n",
       "      <td>60</td>\n",
       "      <td>RL</td>\n",
       "      <td>74.0</td>\n",
       "      <td>13830</td>\n",
       "      <td>Pave</td>\n",
       "      <td>NaN</td>\n",
       "      <td>IR1</td>\n",
       "      <td>Lvl</td>\n",
       "      <td>AllPub</td>\n",
       "      <td>...</td>\n",
       "      <td>0</td>\n",
       "      <td>0</td>\n",
       "      <td>NaN</td>\n",
       "      <td>MnPrv</td>\n",
       "      <td>NaN</td>\n",
       "      <td>0</td>\n",
       "      <td>3</td>\n",
       "      <td>2010</td>\n",
       "      <td>WD</td>\n",
       "      <td>Normal</td>\n",
       "    </tr>\n",
       "  </tbody>\n",
       "</table>\n",
       "<p>3 rows × 80 columns</p>\n",
       "</div>"
      ],
      "text/plain": [
       "     Id  MSSubClass MSZoning  LotFrontage  LotArea Street Alley LotShape  \\\n",
       "0  1461          20       RH         80.0    11622   Pave   NaN      Reg   \n",
       "1  1462          20       RL         81.0    14267   Pave   NaN      IR1   \n",
       "2  1463          60       RL         74.0    13830   Pave   NaN      IR1   \n",
       "\n",
       "  LandContour Utilities  ... ScreenPorch PoolArea PoolQC  Fence MiscFeature  \\\n",
       "0         Lvl    AllPub  ...         120        0    NaN  MnPrv         NaN   \n",
       "1         Lvl    AllPub  ...           0        0    NaN    NaN        Gar2   \n",
       "2         Lvl    AllPub  ...           0        0    NaN  MnPrv         NaN   \n",
       "\n",
       "  MiscVal MoSold  YrSold  SaleType  SaleCondition  \n",
       "0       0      6    2010        WD         Normal  \n",
       "1   12500      6    2010        WD         Normal  \n",
       "2       0      3    2010        WD         Normal  \n",
       "\n",
       "[3 rows x 80 columns]"
      ]
     },
     "execution_count": 71,
     "metadata": {},
     "output_type": "execute_result"
    }
   ],
   "source": [
    "df_test.head(3) # 예측해야 하는 값이므로 SalePrice가 없다."
   ]
  },
  {
   "cell_type": "code",
   "execution_count": 72,
   "id": "c7105f5f",
   "metadata": {},
   "outputs": [
    {
     "name": "stdout",
     "output_type": "stream",
     "text": [
      "<class 'pandas.core.frame.DataFrame'>\n",
      "RangeIndex: 1460 entries, 0 to 1459\n",
      "Data columns (total 81 columns):\n",
      " #   Column         Non-Null Count  Dtype  \n",
      "---  ------         --------------  -----  \n",
      " 0   Id             1460 non-null   int64  \n",
      " 1   MSSubClass     1460 non-null   int64  \n",
      " 2   MSZoning       1460 non-null   object \n",
      " 3   LotFrontage    1201 non-null   float64\n",
      " 4   LotArea        1460 non-null   int64  \n",
      " 5   Street         1460 non-null   object \n",
      " 6   Alley          91 non-null     object \n",
      " 7   LotShape       1460 non-null   object \n",
      " 8   LandContour    1460 non-null   object \n",
      " 9   Utilities      1460 non-null   object \n",
      " 10  LotConfig      1460 non-null   object \n",
      " 11  LandSlope      1460 non-null   object \n",
      " 12  Neighborhood   1460 non-null   object \n",
      " 13  Condition1     1460 non-null   object \n",
      " 14  Condition2     1460 non-null   object \n",
      " 15  BldgType       1460 non-null   object \n",
      " 16  HouseStyle     1460 non-null   object \n",
      " 17  OverallQual    1460 non-null   int64  \n",
      " 18  OverallCond    1460 non-null   int64  \n",
      " 19  YearBuilt      1460 non-null   int64  \n",
      " 20  YearRemodAdd   1460 non-null   int64  \n",
      " 21  RoofStyle      1460 non-null   object \n",
      " 22  RoofMatl       1460 non-null   object \n",
      " 23  Exterior1st    1460 non-null   object \n",
      " 24  Exterior2nd    1460 non-null   object \n",
      " 25  MasVnrType     588 non-null    object \n",
      " 26  MasVnrArea     1452 non-null   float64\n",
      " 27  ExterQual      1460 non-null   object \n",
      " 28  ExterCond      1460 non-null   object \n",
      " 29  Foundation     1460 non-null   object \n",
      " 30  BsmtQual       1423 non-null   object \n",
      " 31  BsmtCond       1423 non-null   object \n",
      " 32  BsmtExposure   1422 non-null   object \n",
      " 33  BsmtFinType1   1423 non-null   object \n",
      " 34  BsmtFinSF1     1460 non-null   int64  \n",
      " 35  BsmtFinType2   1422 non-null   object \n",
      " 36  BsmtFinSF2     1460 non-null   int64  \n",
      " 37  BsmtUnfSF      1460 non-null   int64  \n",
      " 38  TotalBsmtSF    1460 non-null   int64  \n",
      " 39  Heating        1460 non-null   object \n",
      " 40  HeatingQC      1460 non-null   object \n",
      " 41  CentralAir     1460 non-null   object \n",
      " 42  Electrical     1459 non-null   object \n",
      " 43  1stFlrSF       1460 non-null   int64  \n",
      " 44  2ndFlrSF       1460 non-null   int64  \n",
      " 45  LowQualFinSF   1460 non-null   int64  \n",
      " 46  GrLivArea      1460 non-null   int64  \n",
      " 47  BsmtFullBath   1460 non-null   int64  \n",
      " 48  BsmtHalfBath   1460 non-null   int64  \n",
      " 49  FullBath       1460 non-null   int64  \n",
      " 50  HalfBath       1460 non-null   int64  \n",
      " 51  BedroomAbvGr   1460 non-null   int64  \n",
      " 52  KitchenAbvGr   1460 non-null   int64  \n",
      " 53  KitchenQual    1460 non-null   object \n",
      " 54  TotRmsAbvGrd   1460 non-null   int64  \n",
      " 55  Functional     1460 non-null   object \n",
      " 56  Fireplaces     1460 non-null   int64  \n",
      " 57  FireplaceQu    770 non-null    object \n",
      " 58  GarageType     1379 non-null   object \n",
      " 59  GarageYrBlt    1379 non-null   float64\n",
      " 60  GarageFinish   1379 non-null   object \n",
      " 61  GarageCars     1460 non-null   int64  \n",
      " 62  GarageArea     1460 non-null   int64  \n",
      " 63  GarageQual     1379 non-null   object \n",
      " 64  GarageCond     1379 non-null   object \n",
      " 65  PavedDrive     1460 non-null   object \n",
      " 66  WoodDeckSF     1460 non-null   int64  \n",
      " 67  OpenPorchSF    1460 non-null   int64  \n",
      " 68  EnclosedPorch  1460 non-null   int64  \n",
      " 69  3SsnPorch      1460 non-null   int64  \n",
      " 70  ScreenPorch    1460 non-null   int64  \n",
      " 71  PoolArea       1460 non-null   int64  \n",
      " 72  PoolQC         7 non-null      object \n",
      " 73  Fence          281 non-null    object \n",
      " 74  MiscFeature    54 non-null     object \n",
      " 75  MiscVal        1460 non-null   int64  \n",
      " 76  MoSold         1460 non-null   int64  \n",
      " 77  YrSold         1460 non-null   int64  \n",
      " 78  SaleType       1460 non-null   object \n",
      " 79  SaleCondition  1460 non-null   object \n",
      " 80  SalePrice      1460 non-null   int64  \n",
      "dtypes: float64(3), int64(35), object(43)\n",
      "memory usage: 924.0+ KB\n"
     ]
    }
   ],
   "source": [
    "df_train.info()"
   ]
  },
  {
   "cell_type": "code",
   "execution_count": 73,
   "id": "15e8bad8",
   "metadata": {},
   "outputs": [
    {
     "data": {
      "text/plain": [
       "Id              -0.021917\n",
       "MSSubClass      -0.084284\n",
       "LotFrontage      0.351799\n",
       "LotArea          0.263843\n",
       "OverallQual      0.790982\n",
       "OverallCond     -0.077856\n",
       "YearBuilt        0.522897\n",
       "YearRemodAdd     0.507101\n",
       "MasVnrArea       0.477493\n",
       "BsmtFinSF1       0.386420\n",
       "BsmtFinSF2      -0.011378\n",
       "BsmtUnfSF        0.214479\n",
       "TotalBsmtSF      0.613581\n",
       "1stFlrSF         0.605852\n",
       "2ndFlrSF         0.319334\n",
       "LowQualFinSF    -0.025606\n",
       "GrLivArea        0.708624\n",
       "BsmtFullBath     0.227122\n",
       "BsmtHalfBath    -0.016844\n",
       "FullBath         0.560664\n",
       "HalfBath         0.284108\n",
       "BedroomAbvGr     0.168213\n",
       "KitchenAbvGr    -0.135907\n",
       "TotRmsAbvGrd     0.533723\n",
       "Fireplaces       0.466929\n",
       "GarageYrBlt      0.486362\n",
       "GarageCars       0.640409\n",
       "GarageArea       0.623431\n",
       "WoodDeckSF       0.324413\n",
       "OpenPorchSF      0.315856\n",
       "EnclosedPorch   -0.128578\n",
       "3SsnPorch        0.044584\n",
       "ScreenPorch      0.111447\n",
       "PoolArea         0.092404\n",
       "MiscVal         -0.021190\n",
       "MoSold           0.046432\n",
       "YrSold          -0.028923\n",
       "SalePrice        1.000000\n",
       "Name: SalePrice, dtype: float64"
      ]
     },
     "execution_count": 73,
     "metadata": {},
     "output_type": "execute_result"
    }
   ],
   "source": [
    "df_train.corr(numeric_only=True)['SalePrice']"
   ]
  },
  {
   "cell_type": "code",
   "execution_count": 74,
   "id": "41e037e1",
   "metadata": {},
   "outputs": [
    {
     "data": {
      "text/plain": [
       "OverallQual     0.790982\n",
       "YearBuilt       0.522897\n",
       "YearRemodAdd    0.507101\n",
       "TotalBsmtSF     0.613581\n",
       "1stFlrSF        0.605852\n",
       "GrLivArea       0.708624\n",
       "FullBath        0.560664\n",
       "TotRmsAbvGrd    0.533723\n",
       "GarageCars      0.640409\n",
       "GarageArea      0.623431\n",
       "SalePrice       1.000000\n",
       "Name: SalePrice, dtype: float64"
      ]
     },
     "execution_count": 74,
     "metadata": {},
     "output_type": "execute_result"
    }
   ],
   "source": [
    "df_train.corr(numeric_only=True)['SalePrice'][(df_train.corr(numeric_only=True)['SalePrice'] > 0.5) | (df_train.corr(numeric_only=True)['SalePrice'] < -0.5)]"
   ]
  },
  {
   "cell_type": "code",
   "execution_count": 75,
   "id": "8b6b5f40",
   "metadata": {},
   "outputs": [
    {
     "name": "stdout",
     "output_type": "stream",
     "text": [
      "Index(['OverallQual', 'YearBuilt', 'YearRemodAdd', 'TotalBsmtSF', '1stFlrSF',\n",
      "       'GrLivArea', 'FullBath', 'TotRmsAbvGrd', 'GarageCars', 'GarageArea',\n",
      "       'SalePrice'],\n",
      "      dtype='object')\n"
     ]
    }
   ],
   "source": [
    "feature_list = df_train.corr(numeric_only=True)['SalePrice'][(df_train.corr(numeric_only=True)['SalePrice'] > 0.5) | (df_train.corr(numeric_only=True)['SalePrice'] < -0.5)].index\n",
    "print(feature_list)"
   ]
  },
  {
   "cell_type": "code",
   "execution_count": 76,
   "id": "79e8b2d3",
   "metadata": {},
   "outputs": [
    {
     "data": {
      "text/plain": [
       "OverallQual     0\n",
       "YearBuilt       0\n",
       "YearRemodAdd    0\n",
       "TotalBsmtSF     0\n",
       "1stFlrSF        0\n",
       "GrLivArea       0\n",
       "FullBath        0\n",
       "TotRmsAbvGrd    0\n",
       "GarageCars      0\n",
       "GarageArea      0\n",
       "SalePrice       0\n",
       "dtype: int64"
      ]
     },
     "execution_count": 76,
     "metadata": {},
     "output_type": "execute_result"
    }
   ],
   "source": [
    "df_train[feature_list].isnull().sum() # 결측치 확인"
   ]
  },
  {
   "cell_type": "code",
   "execution_count": 77,
   "id": "989f8bbc",
   "metadata": {},
   "outputs": [
    {
     "data": {
      "text/plain": [
       "OverallQual     int64\n",
       "YearBuilt       int64\n",
       "YearRemodAdd    int64\n",
       "TotalBsmtSF     int64\n",
       "1stFlrSF        int64\n",
       "GrLivArea       int64\n",
       "FullBath        int64\n",
       "TotRmsAbvGrd    int64\n",
       "GarageCars      int64\n",
       "GarageArea      int64\n",
       "SalePrice       int64\n",
       "dtype: object"
      ]
     },
     "execution_count": 77,
     "metadata": {},
     "output_type": "execute_result"
    }
   ],
   "source": [
    "df_train[feature_list].dtypes"
   ]
  },
  {
   "cell_type": "code",
   "execution_count": 78,
   "id": "bbb43cf9",
   "metadata": {},
   "outputs": [
    {
     "data": {
      "text/plain": [
       "Index(['OverallQual', 'YearBuilt', 'YearRemodAdd', 'TotalBsmtSF', '1stFlrSF',\n",
       "       'GrLivArea', 'FullBath', 'TotRmsAbvGrd', 'GarageCars', 'GarageArea'],\n",
       "      dtype='object')"
      ]
     },
     "execution_count": 78,
     "metadata": {},
     "output_type": "execute_result"
    }
   ],
   "source": [
    "features = feature_list[:-1]\n",
    "features"
   ]
  },
  {
   "cell_type": "code",
   "execution_count": 79,
   "id": "271e93a9",
   "metadata": {},
   "outputs": [],
   "source": [
    "for feature in features:\n",
    "    df_test.fillna((df_train[feature].mean()),inplace=True) # test 데이터셋 결측치가 있으면 평균값으로 대체"
   ]
  },
  {
   "cell_type": "code",
   "execution_count": 80,
   "id": "5319bd28",
   "metadata": {},
   "outputs": [],
   "source": [
    "X_train = df_train[features]\n",
    "y_train = df_train[['SalePrice']].values\n",
    "X_test = df_test[features]"
   ]
  },
  {
   "cell_type": "code",
   "execution_count": 81,
   "id": "c6a277d8",
   "metadata": {},
   "outputs": [
    {
     "data": {
      "text/plain": [
       "numpy.ndarray"
      ]
     },
     "execution_count": 81,
     "metadata": {},
     "output_type": "execute_result"
    }
   ],
   "source": [
    "type(y_train)"
   ]
  },
  {
   "cell_type": "code",
   "execution_count": 82,
   "id": "2aa64106",
   "metadata": {},
   "outputs": [],
   "source": [
    "std_scaler = StandardScaler()\n",
    "std_scaler.fit(X_train)\n",
    "\n",
    "X_train_tensor = torch.from_numpy(std_scaler.transform(X_train)).float()\n",
    "X_test_tensor = torch.from_numpy(std_scaler.transform(X_test)).float()\n",
    "y_train_tensor = torch.from_numpy(y_train).float()\n"
   ]
  },
  {
   "cell_type": "code",
   "execution_count": 83,
   "id": "4196369e",
   "metadata": {},
   "outputs": [
    {
     "name": "stdout",
     "output_type": "stream",
     "text": [
      "torch.Size([1460, 10]) torch.Size([1459, 10]) torch.Size([1460, 1])\n"
     ]
    }
   ],
   "source": [
    "print(X_train_tensor.shape, X_test_tensor.shape, y_train_tensor.shape)"
   ]
  },
  {
   "cell_type": "code",
   "execution_count": 84,
   "id": "4fe52fb5",
   "metadata": {},
   "outputs": [],
   "source": [
    "nb_epochs = 10000\n",
    "minibatch_size = 256"
   ]
  },
  {
   "cell_type": "code",
   "execution_count": 85,
   "id": "b4718db6",
   "metadata": {},
   "outputs": [],
   "source": [
    "class FunModel(nn.Module):\n",
    "    def __init__(self, input_dim, output_dim):\n",
    "        super().__init__()\n",
    "        self.linear_layers = nn.Sequential(\n",
    "            nn.Linear(input_dim, 20),\n",
    "            nn.LeakyReLU(0.1),\n",
    "            nn.Linear(20, 10),\n",
    "            nn.LeakyReLU(0.1),\n",
    "            nn.Linear(10, 8),\n",
    "            nn.LeakyReLU(0.1),\n",
    "            nn.Linear(8, 6),\n",
    "            nn.LeakyReLU(0.1),\n",
    "            nn.Linear(6, output_dim)\n",
    "        )\n",
    "    def forward(self, x):\n",
    "        y = self.linear_layers(x)\n",
    "        return y\n",
    "        \n",
    "    "
   ]
  },
  {
   "cell_type": "code",
   "execution_count": 86,
   "id": "7f225bc4",
   "metadata": {},
   "outputs": [
    {
     "name": "stdout",
     "output_type": "stream",
     "text": [
      "10 1\n"
     ]
    }
   ],
   "source": [
    "input_dim = X_train_tensor.size(-1)\n",
    "output_dim = y_train_tensor.size(-1)\n",
    "print(input_dim, output_dim)\n",
    "model = FunModel(input_dim, output_dim)\n",
    "loss_function = nn.MSELoss()\n",
    "optimizer = torch.optim.Adam(model.parameters()) # Adam 사용"
   ]
  },
  {
   "cell_type": "code",
   "execution_count": 87,
   "id": "c1b7899c",
   "metadata": {},
   "outputs": [
    {
     "name": "stdout",
     "output_type": "stream",
     "text": [
      "tensor([ 780,  989,  102,  ..., 1104,  167, 1265])\n"
     ]
    }
   ],
   "source": [
    "indies = torch.randperm(X_train_tensor.size(0))\n",
    "print(indies)\n",
    "x_batch_list = torch.index_select(X_train_tensor, dim=0, index=indies)\n",
    "y_batch_list = torch.index_select(y_train_tensor, dim=0, index=indies)\n",
    "x_batch_list = x_batch_list.split(minibatch_size, dim=0)\n",
    "y_batch_list = y_batch_list.split(minibatch_size, dim=0)"
   ]
  },
  {
   "cell_type": "code",
   "execution_count": 88,
   "id": "0c04d6f1",
   "metadata": {},
   "outputs": [
    {
     "name": "stdout",
     "output_type": "stream",
     "text": [
      "0 tensor(1184862.1250, grad_fn=<AddBackward0>) tensor(197477.0156, grad_fn=<DivBackward0>)\n",
      "100 tensor(972512.3750, grad_fn=<AddBackward0>) tensor(162085.3906, grad_fn=<DivBackward0>)\n",
      "200 tensor(415321.2188, grad_fn=<AddBackward0>) tensor(69220.2031, grad_fn=<DivBackward0>)\n",
      "300 tensor(288772.8438, grad_fn=<AddBackward0>) tensor(48128.8086, grad_fn=<DivBackward0>)\n",
      "400 tensor(224958.0312, grad_fn=<AddBackward0>) tensor(37493.0039, grad_fn=<DivBackward0>)\n",
      "500 tensor(208914.4375, grad_fn=<AddBackward0>) tensor(34819.0742, grad_fn=<DivBackward0>)\n",
      "600 tensor(204181.7812, grad_fn=<AddBackward0>) tensor(34030.2969, grad_fn=<DivBackward0>)\n",
      "700 tensor(196366.2812, grad_fn=<AddBackward0>) tensor(32727.7129, grad_fn=<DivBackward0>)\n",
      "800 tensor(198843.4844, grad_fn=<AddBackward0>) tensor(33140.5820, grad_fn=<DivBackward0>)\n",
      "900 tensor(195320.5938, grad_fn=<AddBackward0>) tensor(32553.4316, grad_fn=<DivBackward0>)\n",
      "1000 tensor(195821.8906, grad_fn=<AddBackward0>) tensor(32636.9824, grad_fn=<DivBackward0>)\n",
      "1100 tensor(196789.2812, grad_fn=<AddBackward0>) tensor(32798.2148, grad_fn=<DivBackward0>)\n",
      "1200 tensor(196406.1250, grad_fn=<AddBackward0>) tensor(32734.3535, grad_fn=<DivBackward0>)\n",
      "1300 tensor(198482.3438, grad_fn=<AddBackward0>) tensor(33080.3906, grad_fn=<DivBackward0>)\n",
      "1400 tensor(197508.9688, grad_fn=<AddBackward0>) tensor(32918.1602, grad_fn=<DivBackward0>)\n",
      "1500 tensor(196465.4531, grad_fn=<AddBackward0>) tensor(32744.2422, grad_fn=<DivBackward0>)\n",
      "1600 tensor(198148.0312, grad_fn=<AddBackward0>) tensor(33024.6719, grad_fn=<DivBackward0>)\n",
      "1700 tensor(196692.4844, grad_fn=<AddBackward0>) tensor(32782.0820, grad_fn=<DivBackward0>)\n",
      "1800 tensor(193399.7344, grad_fn=<AddBackward0>) tensor(32233.2891, grad_fn=<DivBackward0>)\n",
      "1900 tensor(193714.7500, grad_fn=<AddBackward0>) tensor(32285.7910, grad_fn=<DivBackward0>)\n",
      "2000 tensor(191616.5625, grad_fn=<AddBackward0>) tensor(31936.0938, grad_fn=<DivBackward0>)\n",
      "2100 tensor(192275.9375, grad_fn=<AddBackward0>) tensor(32045.9902, grad_fn=<DivBackward0>)\n",
      "2200 tensor(194267.7500, grad_fn=<AddBackward0>) tensor(32377.9590, grad_fn=<DivBackward0>)\n",
      "2300 tensor(197370.6250, grad_fn=<AddBackward0>) tensor(32895.1055, grad_fn=<DivBackward0>)\n",
      "2400 tensor(195392., grad_fn=<AddBackward0>) tensor(32565.3340, grad_fn=<DivBackward0>)\n",
      "2500 tensor(194649.2969, grad_fn=<AddBackward0>) tensor(32441.5488, grad_fn=<DivBackward0>)\n",
      "2600 tensor(193272.1250, grad_fn=<AddBackward0>) tensor(32212.0215, grad_fn=<DivBackward0>)\n",
      "2700 tensor(193878.7500, grad_fn=<AddBackward0>) tensor(32313.1250, grad_fn=<DivBackward0>)\n",
      "2800 tensor(193859.6562, grad_fn=<AddBackward0>) tensor(32309.9434, grad_fn=<DivBackward0>)\n",
      "2900 tensor(189151.2031, grad_fn=<AddBackward0>) tensor(31525.2012, grad_fn=<DivBackward0>)\n",
      "3000 tensor(188884.1562, grad_fn=<AddBackward0>) tensor(31480.6934, grad_fn=<DivBackward0>)\n",
      "3100 tensor(192231.8906, grad_fn=<AddBackward0>) tensor(32038.6484, grad_fn=<DivBackward0>)\n",
      "3200 tensor(196201.2031, grad_fn=<AddBackward0>) tensor(32700.2012, grad_fn=<DivBackward0>)\n",
      "3300 tensor(195865.6250, grad_fn=<AddBackward0>) tensor(32644.2715, grad_fn=<DivBackward0>)\n",
      "3400 tensor(195573.6094, grad_fn=<AddBackward0>) tensor(32595.6016, grad_fn=<DivBackward0>)\n",
      "3500 tensor(189933.3125, grad_fn=<AddBackward0>) tensor(31655.5527, grad_fn=<DivBackward0>)\n",
      "3600 tensor(189727.2656, grad_fn=<AddBackward0>) tensor(31621.2109, grad_fn=<DivBackward0>)\n",
      "3700 tensor(187230.1406, grad_fn=<AddBackward0>) tensor(31205.0234, grad_fn=<DivBackward0>)\n",
      "3800 tensor(189821.3594, grad_fn=<AddBackward0>) tensor(31636.8926, grad_fn=<DivBackward0>)\n",
      "3900 tensor(189713.3125, grad_fn=<AddBackward0>) tensor(31618.8848, grad_fn=<DivBackward0>)\n",
      "4000 tensor(190108.6875, grad_fn=<AddBackward0>) tensor(31684.7812, grad_fn=<DivBackward0>)\n",
      "4100 tensor(188992.3281, grad_fn=<AddBackward0>) tensor(31498.7207, grad_fn=<DivBackward0>)\n",
      "4200 tensor(192904.5000, grad_fn=<AddBackward0>) tensor(32150.7500, grad_fn=<DivBackward0>)\n",
      "4300 tensor(188576.5469, grad_fn=<AddBackward0>) tensor(31429.4238, grad_fn=<DivBackward0>)\n",
      "4400 tensor(190828.0625, grad_fn=<AddBackward0>) tensor(31804.6777, grad_fn=<DivBackward0>)\n",
      "4500 tensor(187763.9062, grad_fn=<AddBackward0>) tensor(31293.9844, grad_fn=<DivBackward0>)\n",
      "4600 tensor(183104.6875, grad_fn=<AddBackward0>) tensor(30517.4473, grad_fn=<DivBackward0>)\n",
      "4700 tensor(178826.2344, grad_fn=<AddBackward0>) tensor(29804.3730, grad_fn=<DivBackward0>)\n",
      "4800 tensor(172865.0625, grad_fn=<AddBackward0>) tensor(28810.8438, grad_fn=<DivBackward0>)\n",
      "4900 tensor(175070.4219, grad_fn=<AddBackward0>) tensor(29178.4043, grad_fn=<DivBackward0>)\n",
      "5000 tensor(175402.2188, grad_fn=<AddBackward0>) tensor(29233.7031, grad_fn=<DivBackward0>)\n",
      "5100 tensor(176703.2500, grad_fn=<AddBackward0>) tensor(29450.5410, grad_fn=<DivBackward0>)\n",
      "5200 tensor(178080.4375, grad_fn=<AddBackward0>) tensor(29680.0723, grad_fn=<DivBackward0>)\n",
      "5300 tensor(176200.7812, grad_fn=<AddBackward0>) tensor(29366.7969, grad_fn=<DivBackward0>)\n",
      "5400 tensor(176259.2500, grad_fn=<AddBackward0>) tensor(29376.5410, grad_fn=<DivBackward0>)\n",
      "5500 tensor(176164.4844, grad_fn=<AddBackward0>) tensor(29360.7480, grad_fn=<DivBackward0>)\n",
      "5600 tensor(173161.5938, grad_fn=<AddBackward0>) tensor(28860.2656, grad_fn=<DivBackward0>)\n",
      "5700 tensor(175312.7812, grad_fn=<AddBackward0>) tensor(29218.7969, grad_fn=<DivBackward0>)\n",
      "5800 tensor(172880.8438, grad_fn=<AddBackward0>) tensor(28813.4746, grad_fn=<DivBackward0>)\n",
      "5900 tensor(172465.5000, grad_fn=<AddBackward0>) tensor(28744.2500, grad_fn=<DivBackward0>)\n",
      "6000 tensor(174310.2188, grad_fn=<AddBackward0>) tensor(29051.7031, grad_fn=<DivBackward0>)\n",
      "6100 tensor(171540.9844, grad_fn=<AddBackward0>) tensor(28590.1641, grad_fn=<DivBackward0>)\n",
      "6200 tensor(172123.0625, grad_fn=<AddBackward0>) tensor(28687.1777, grad_fn=<DivBackward0>)\n",
      "6300 tensor(170588.9375, grad_fn=<AddBackward0>) tensor(28431.4902, grad_fn=<DivBackward0>)\n",
      "6400 tensor(172271.6250, grad_fn=<AddBackward0>) tensor(28711.9375, grad_fn=<DivBackward0>)\n",
      "6500 tensor(170153.5156, grad_fn=<AddBackward0>) tensor(28358.9199, grad_fn=<DivBackward0>)\n",
      "6600 tensor(171685.7188, grad_fn=<AddBackward0>) tensor(28614.2871, grad_fn=<DivBackward0>)\n",
      "6700 tensor(170380.5625, grad_fn=<AddBackward0>) tensor(28396.7598, grad_fn=<DivBackward0>)\n",
      "6800 tensor(169742.2656, grad_fn=<AddBackward0>) tensor(28290.3770, grad_fn=<DivBackward0>)\n",
      "6900 tensor(169663.7969, grad_fn=<AddBackward0>) tensor(28277.2988, grad_fn=<DivBackward0>)\n",
      "7000 tensor(169716.8906, grad_fn=<AddBackward0>) tensor(28286.1484, grad_fn=<DivBackward0>)\n",
      "7100 tensor(169754.5938, grad_fn=<AddBackward0>) tensor(28292.4316, grad_fn=<DivBackward0>)\n",
      "7200 tensor(168582.3594, grad_fn=<AddBackward0>) tensor(28097.0605, grad_fn=<DivBackward0>)\n",
      "7300 tensor(168244.4531, grad_fn=<AddBackward0>) tensor(28040.7422, grad_fn=<DivBackward0>)\n",
      "7400 tensor(169411.8125, grad_fn=<AddBackward0>) tensor(28235.3027, grad_fn=<DivBackward0>)\n",
      "7500 tensor(167529.5312, grad_fn=<AddBackward0>) tensor(27921.5879, grad_fn=<DivBackward0>)\n",
      "7600 tensor(166676.1719, grad_fn=<AddBackward0>) tensor(27779.3613, grad_fn=<DivBackward0>)\n",
      "7700 tensor(168418.7188, grad_fn=<AddBackward0>) tensor(28069.7871, grad_fn=<DivBackward0>)\n",
      "7800 tensor(166317.0156, grad_fn=<AddBackward0>) tensor(27719.5020, grad_fn=<DivBackward0>)\n",
      "7900 tensor(167192.7188, grad_fn=<AddBackward0>) tensor(27865.4531, grad_fn=<DivBackward0>)\n",
      "8000 tensor(167030.9844, grad_fn=<AddBackward0>) tensor(27838.4980, grad_fn=<DivBackward0>)\n",
      "8100 tensor(167102.1562, grad_fn=<AddBackward0>) tensor(27850.3594, grad_fn=<DivBackward0>)\n",
      "8200 tensor(165138.3125, grad_fn=<AddBackward0>) tensor(27523.0527, grad_fn=<DivBackward0>)\n",
      "8300 tensor(163761.7188, grad_fn=<AddBackward0>) tensor(27293.6191, grad_fn=<DivBackward0>)\n",
      "8400 tensor(167781.3125, grad_fn=<AddBackward0>) tensor(27963.5527, grad_fn=<DivBackward0>)\n",
      "8500 tensor(165871.6250, grad_fn=<AddBackward0>) tensor(27645.2715, grad_fn=<DivBackward0>)\n",
      "8600 tensor(168070.4219, grad_fn=<AddBackward0>) tensor(28011.7363, grad_fn=<DivBackward0>)\n",
      "8700 tensor(165203.9844, grad_fn=<AddBackward0>) tensor(27533.9980, grad_fn=<DivBackward0>)\n",
      "8800 tensor(166499.3906, grad_fn=<AddBackward0>) tensor(27749.8984, grad_fn=<DivBackward0>)\n",
      "8900 tensor(164491.9531, grad_fn=<AddBackward0>) tensor(27415.3262, grad_fn=<DivBackward0>)\n",
      "9000 tensor(164348.4844, grad_fn=<AddBackward0>) tensor(27391.4141, grad_fn=<DivBackward0>)\n",
      "9100 tensor(165556.9688, grad_fn=<AddBackward0>) tensor(27592.8281, grad_fn=<DivBackward0>)\n",
      "9200 tensor(163915.0156, grad_fn=<AddBackward0>) tensor(27319.1699, grad_fn=<DivBackward0>)\n",
      "9300 tensor(168387.6094, grad_fn=<AddBackward0>) tensor(28064.6016, grad_fn=<DivBackward0>)\n",
      "9400 tensor(164871.5781, grad_fn=<AddBackward0>) tensor(27478.5957, grad_fn=<DivBackward0>)\n",
      "9500 tensor(165307.2344, grad_fn=<AddBackward0>) tensor(27551.2051, grad_fn=<DivBackward0>)\n",
      "9600 tensor(167757.4062, grad_fn=<AddBackward0>) tensor(27959.5684, grad_fn=<DivBackward0>)\n",
      "9700 tensor(162473.8750, grad_fn=<AddBackward0>) tensor(27078.9785, grad_fn=<DivBackward0>)\n",
      "9800 tensor(162829.1562, grad_fn=<AddBackward0>) tensor(27138.1934, grad_fn=<DivBackward0>)\n",
      "9900 tensor(164369.5625, grad_fn=<AddBackward0>) tensor(27394.9277, grad_fn=<DivBackward0>)\n"
     ]
    }
   ],
   "source": [
    "for index in range(nb_epochs):\n",
    "    indies = torch.randperm(X_train_tensor.size(0))\n",
    "    \n",
    "    x_batch_list = torch.index_select(X_train_tensor, dim=0, index=indies)\n",
    "    y_batch_list = torch.index_select(y_train_tensor, dim=0, index=indies)\n",
    "    x_batch_list = x_batch_list.split(minibatch_size, dim=0)\n",
    "    y_batch_list = y_batch_list.split(minibatch_size, dim=0)\n",
    "    \n",
    "    epoch_loss = list()\n",
    "    for x_minibatch, y_minibatch in zip(x_batch_list, y_batch_list):\n",
    "        y_minibatch_pred = model(x_minibatch)\n",
    "        \n",
    "        loss = torch.sqrt(loss_function(y_minibatch_pred, y_minibatch)) # RMSE\n",
    "        epoch_loss.append(loss)\n",
    "        \n",
    "        optimizer.zero_grad()\n",
    "        loss.backward()\n",
    "        optimizer.step()\n",
    "    \n",
    "    if(index % 100) == 0:\n",
    "        print(index, sum(epoch_loss), sum(epoch_loss)/len(epoch_loss))"
   ]
  },
  {
   "cell_type": "markdown",
   "id": "04e3a9bd",
   "metadata": {},
   "source": [
    "### 테스트셋 기반 Evalution\n",
    "\n",
    "#### model.eval()과 torch.no_grad()\n",
    "\n",
    "- model.eval()\n",
    "    - evalution과정에서 사용하지 않음 layer들을 수행하지 않음\n",
    "    - 학습할 때만 필요한 Dropout, BatchNorm layer등을 수행하지 않음\n",
    "\n",
    "- torch.no_grad()\n",
    "    - gradient 계산을 수행하지 않음"
   ]
  },
  {
   "cell_type": "code",
   "execution_count": null,
   "id": "836b91a0",
   "metadata": {},
   "outputs": [],
   "source": [
    "y_pred_list = list() # 예측값 저장을 하기위해 list 초기화\n",
    "x_test_batch_list = X_test_tensor.split(minibatch_size, dim=0) # 테스트 데이터를 미니배치로 분할해줍니다.\n",
    "model.eval() # 모델을 평가(evaluation) 모드로 전환합니다.\n",
    "with torch.no_grad(): # 해당 with 블록 안에서는 기울기(gradient)를 계산하지 않습니다. 예측만 할 때는 기울기가 필요없기 때문에\n",
    "    for x_minibatch in x_test_batch_list:\n",
    "        y_minibatch_pred = model(x_minibatch)\n",
    "        # 텐서의 차원 중 크기가 1인 차원을 제거합니다 -> 현재 계산 그래프에서 이 텐서를 분리합니다. -> Pytorch 텐서를 리스트로 변환\n",
    "        y_pred_list.extend(y_minibatch_pred.squeeze().detach().tolist()) \n",
    "\n",
    "submission = pd.DataFrame({'Id':df_test['Id'], 'SalePrice':y_pred_list})\n",
    "submission.to_csv('submission.csv', index=False)\n"
   ]
  }
 ],
 "metadata": {
  "kernelspec": {
   "display_name": ".venv",
   "language": "python",
   "name": "python3"
  },
  "language_info": {
   "codemirror_mode": {
    "name": "ipython",
    "version": 3
   },
   "file_extension": ".py",
   "mimetype": "text/x-python",
   "name": "python",
   "nbconvert_exporter": "python",
   "pygments_lexer": "ipython3",
   "version": "3.12.9"
  }
 },
 "nbformat": 4,
 "nbformat_minor": 5
}
